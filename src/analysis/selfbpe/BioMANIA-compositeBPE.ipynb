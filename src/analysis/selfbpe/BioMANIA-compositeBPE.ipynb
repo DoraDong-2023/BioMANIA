{
 "cells": [
  {
   "cell_type": "code",
   "execution_count": 1,
   "id": "1e459c52",
   "metadata": {},
   "outputs": [],
   "source": [
    "import json\n",
    "import sentencepiece as spm\n",
    "import numpy as np\n",
    "LIB = \"scanpy\"\n",
    "num_iterations = 2000 # maximum iterations\n",
    "max_API_merge = 2 # constrain: maximum number of APIs can be merged together"
   ]
  },
  {
   "cell_type": "markdown",
   "id": "02fb7739",
   "metadata": {},
   "source": [
    "### step0: preprocessing"
   ]
  },
  {
   "cell_type": "code",
   "execution_count": 2,
   "id": "7c6dd620",
   "metadata": {},
   "outputs": [],
   "source": [
    "# the text-code-API tuple get from tutorials\n",
    "output_json_path = f'summarized_responses.json'\n",
    "with open(output_json_path, 'r') as file:\n",
    "    summarized_responses = json.loads(file.read())\n",
    "# extract text-API pair from json files\n",
    "data = []\n",
    "for tut_key in summarized_responses:\n",
    "    temp_data = []\n",
    "    for item in summarized_responses[tut_key]:\n",
    "        temp_data.extend(item['relevant_API'])\n",
    "    data.append(temp_data)\n",
    "# save as a file, containing multiple lines, each line has multiple API\n",
    "# e.g. \n",
    "# (tutorial1) API1 API2 API3\n",
    "# (tutorial2) API2 API3\n",
    "with open(\"sample.txt\", \"w\", encoding=\"utf-8\") as file:\n",
    "    for temp_data in data:\n",
    "        for api in temp_data:\n",
    "            #api = api.replace('_','00')\n",
    "            file.write(api + \" \")\n",
    "        file.write(\"\\n\")\n",
    "\n",
    "def count_co_occurrences(lines):\n",
    "    \"\"\"\n",
    "    count co-occurrences of adjacent APIs as json\n",
    "    \"\"\"\n",
    "    co_occurrence_counter = {}\n",
    "    for line in lines:\n",
    "        for i in range(len(line) - 1):\n",
    "            api_pair = '+'.join([line[i], line[i + 1]])\n",
    "            if api_pair in co_occurrence_counter:\n",
    "                co_occurrence_counter[api_pair] += 1\n",
    "            else:\n",
    "                co_occurrence_counter[api_pair] = 1\n",
    "    return co_occurrence_counter\n",
    "\n",
    "def get_most_common_pair(co_occurrences, max_API_merge):\n",
    "    \"\"\"\n",
    "    get the most common API pair from co-occurrences matrix\n",
    "         under constraints\n",
    "    \"\"\"\n",
    "    filtered_co_occurrences = {\n",
    "        pair: count for pair, count in co_occurrences.items() \n",
    "        if (not pair.split('+')[0] == pair.split('+')[1]) and (pair.count('|')+1<max_API_merge)\n",
    "    }\n",
    "    if not filtered_co_occurrences:\n",
    "        return None, None\n",
    "    most_common_pair = max(filtered_co_occurrences, key=filtered_co_occurrences.get)\n",
    "    count = filtered_co_occurrences[most_common_pair]\n",
    "    most_common_pair = most_common_pair.split('+')\n",
    "    return most_common_pair, count\n",
    "\n",
    "def merge_apis(lines, merge_pair, max_API_merge):\n",
    "    \"\"\"\n",
    "    replace lines/txt with merged pairs\n",
    "    \"\"\"\n",
    "    merged_api = '|'.join(merge_pair)\n",
    "    new_lines = []\n",
    "    for line in lines:\n",
    "        new_line = []\n",
    "        i = 0\n",
    "        while i < len(line):\n",
    "            if i < len(line) - 1 and [line[i], line[i + 1]] == merge_pair:\n",
    "                new_line.append(merged_api)\n",
    "                # do not add constraint here\n",
    "                #if line[i].count('|')+line[i + 1].count('|')+1 < max_API_merge:\n",
    "                #    new_line.append(merged_api)\n",
    "                #    i += 2\n",
    "                #else:\n",
    "                #    new_line.append(line[i])  # do not merge if reaches maximum merged API constraint\n",
    "                #    i += 1\n",
    "                i+=2\n",
    "            else:\n",
    "                new_line.append(line[i])\n",
    "                i += 1\n",
    "        new_lines.append(new_line)\n",
    "    return new_lines\n"
   ]
  },
  {
   "cell_type": "markdown",
   "id": "41a4d682",
   "metadata": {},
   "source": [
    "### step1: load data"
   ]
  },
  {
   "cell_type": "code",
   "execution_count": 3,
   "id": "96f95cf1",
   "metadata": {},
   "outputs": [],
   "source": [
    "with open(\"sample.txt\", \"r\") as file:\n",
    "    lines = [line.strip().split(\" \") for line in file]"
   ]
  },
  {
   "cell_type": "markdown",
   "id": "bea63a91",
   "metadata": {},
   "source": [
    "### step2: iterative merging"
   ]
  },
  {
   "cell_type": "code",
   "execution_count": 4,
   "id": "c6af3a2c",
   "metadata": {
    "scrolled": true
   },
   "outputs": [
    {
     "name": "stdout",
     "output_type": "stream",
     "text": [
      "Iteration 1: Total co-occurrence count: 359\n",
      "Iteration 2: Total co-occurrence count: 351\n",
      "Iteration 3: Total co-occurrence count: 344\n",
      "Iteration 4: Total co-occurrence count: 338\n",
      "Iteration 5: Total co-occurrence count: 333\n",
      "Iteration 6: Total co-occurrence count: 328\n",
      "Iteration 7: Total co-occurrence count: 323\n",
      "Iteration 8: Total co-occurrence count: 318\n",
      "Iteration 9: Total co-occurrence count: 314\n",
      "Iteration 10: Total co-occurrence count: 310\n",
      "Iteration 11: Total co-occurrence count: 306\n",
      "Iteration 12: Total co-occurrence count: 302\n",
      "Iteration 13: Total co-occurrence count: 298\n",
      "Iteration 14: Total co-occurrence count: 294\n",
      "Iteration 15: Total co-occurrence count: 290\n",
      "Iteration 16: Total co-occurrence count: 287\n",
      "Iteration 17: Total co-occurrence count: 284\n",
      "Iteration 18: Total co-occurrence count: 281\n",
      "Iteration 19: Total co-occurrence count: 279\n",
      "Iteration 20: Total co-occurrence count: 277\n",
      "Iteration 21: Total co-occurrence count: 275\n",
      "Iteration 22: Total co-occurrence count: 273\n",
      "Iteration 23: Total co-occurrence count: 271\n",
      "Iteration 24: Total co-occurrence count: 269\n",
      "Iteration 25: Total co-occurrence count: 267\n",
      "Iteration 26: Total co-occurrence count: 265\n",
      "Iteration 27: Total co-occurrence count: 263\n",
      "Iteration 28: Total co-occurrence count: 261\n",
      "Iteration 29: Total co-occurrence count: 259\n",
      "Iteration 30: Total co-occurrence count: 257\n",
      "Iteration 31: Total co-occurrence count: 255\n",
      "Iteration 32: Total co-occurrence count: 253\n",
      "Iteration 33: Total co-occurrence count: 251\n",
      "Iteration 34: Total co-occurrence count: 249\n",
      "Iteration 35: Total co-occurrence count: 247\n",
      "Iteration 36: Total co-occurrence count: 245\n",
      "Iteration 37: Total co-occurrence count: 243\n",
      "Iteration 38: Total co-occurrence count: 241\n",
      "Iteration 39: Total co-occurrence count: 240\n",
      "Iteration 40: Total co-occurrence count: 239\n",
      "Iteration 41: Total co-occurrence count: 238\n",
      "Iteration 42: Total co-occurrence count: 237\n",
      "Iteration 43: Total co-occurrence count: 236\n",
      "Iteration 44: Total co-occurrence count: 235\n",
      "Iteration 45: Total co-occurrence count: 234\n",
      "Iteration 46: Total co-occurrence count: 233\n",
      "Iteration 47: Total co-occurrence count: 232\n",
      "Iteration 48: Total co-occurrence count: 231\n",
      "Iteration 49: Total co-occurrence count: 230\n",
      "Iteration 50: Total co-occurrence count: 229\n",
      "Iteration 51: Total co-occurrence count: 228\n",
      "Iteration 52: Total co-occurrence count: 227\n",
      "Iteration 53: Total co-occurrence count: 226\n",
      "Iteration 54: Total co-occurrence count: 225\n",
      "Iteration 55: Total co-occurrence count: 224\n",
      "Iteration 56: Total co-occurrence count: 223\n",
      "Iteration 57: Total co-occurrence count: 222\n",
      "Iteration 58: Total co-occurrence count: 221\n",
      "Iteration 59: Total co-occurrence count: 220\n",
      "Iteration 60: Total co-occurrence count: 219\n",
      "Iteration 61: Total co-occurrence count: 218\n",
      "Iteration 62: Total co-occurrence count: 217\n",
      "Iteration 63: Total co-occurrence count: 216\n",
      "Iteration 64: Total co-occurrence count: 215\n",
      "Iteration 65: Total co-occurrence count: 214\n",
      "Iteration 66: Total co-occurrence count: 213\n",
      "Iteration 67: Total co-occurrence count: 212\n",
      "Iteration 68: Total co-occurrence count: 211\n",
      "Iteration 69: Total co-occurrence count: 210\n",
      "Iteration 70: Total co-occurrence count: 209\n",
      "Iteration 71: Total co-occurrence count: 208\n",
      "Iteration 72: Total co-occurrence count: 207\n",
      "Iteration 73: Total co-occurrence count: 206\n",
      "Iteration 74: Total co-occurrence count: 205\n",
      "Iteration 75: Total co-occurrence count: 204\n",
      "Iteration 76: Total co-occurrence count: 203\n",
      "Iteration 77: Total co-occurrence count: 202\n",
      "Iteration 78: Total co-occurrence count: 201\n",
      "Iteration 79: Total co-occurrence count: 200\n",
      "Iteration 80: Total co-occurrence count: 199\n",
      "Iteration 81: Total co-occurrence count: 198\n",
      "Iteration 82: Total co-occurrence count: 197\n",
      "No valid pair to merge. Ending at iteration 82.\n"
     ]
    }
   ],
   "source": [
    "def self_BPE(lines, num_iterations, max_API_merge, verbose=False):\n",
    "    merged_pairs_list = []\n",
    "    merge_rules = []\n",
    "    total_count_iter = []\n",
    "    for iteration in range(num_iterations):\n",
    "        co_occurrences = count_co_occurrences(lines)\n",
    "        total_count = sum(co_occurrences.values())\n",
    "        if verbose:\n",
    "            print(f\"Iteration {iteration + 1}: Total co-occurrence count: {total_count}\")\n",
    "        total_count_iter.append(total_count)\n",
    "        if not co_occurrences:\n",
    "            print(f\"No more co-occurrences found. Ending at iteration {iteration + 1}.\")\n",
    "            break\n",
    "        highest_pair, highest_count = get_most_common_pair(co_occurrences, max_API_merge)\n",
    "        if highest_pair is None:\n",
    "            print(f\"No valid pair to merge. Ending at iteration {iteration + 1}.\")\n",
    "            break\n",
    "        merged_pairs_list.append(highest_pair)\n",
    "        #print(f\"Before merging in iteration {iteration + 1}: {lines}\")\n",
    "        lines = merge_apis(lines, highest_pair, max_API_merge)\n",
    "        #print(f\"After merging in iteration {iteration + 1}: {lines}\")\n",
    "    return merged_pairs_list, total_count_iter, lines\n",
    "merged_pairs_list, total_count_iter, lines = self_BPE(lines, num_iterations, max_API_merge, verbose=True)"
   ]
  },
  {
   "cell_type": "markdown",
   "id": "c44ccf36",
   "metadata": {},
   "source": [
    "### step3: save merged rules and merged text"
   ]
  },
  {
   "cell_type": "code",
   "execution_count": 5,
   "id": "7ea378a6",
   "metadata": {},
   "outputs": [],
   "source": [
    "def detect_and_trim_repeated_pairs(merged_pairs_list):\n",
    "    \"\"\"\n",
    "    trims the list to remove the repeats.\n",
    "    \"\"\"\n",
    "    # Use a set to track unique pairs for efficient lookup\n",
    "    seen_pairs = set()\n",
    "    for i, pair in enumerate(merged_pairs_list):\n",
    "        hashable_pair = pair[0]+'+'+pair[1]\n",
    "        if hashable_pair in seen_pairs:\n",
    "            return merged_pairs_list[:i-1] # because the problem already happens from paused pair on\n",
    "        else:\n",
    "            pass\n",
    "        seen_pairs.add(hashable_pair)\n",
    "    return merged_pairs_list\n",
    "merged_pairs_list = detect_and_trim_repeated_pairs(merged_pairs_list)"
   ]
  },
  {
   "cell_type": "code",
   "execution_count": 6,
   "id": "96ddd93b",
   "metadata": {},
   "outputs": [
    {
     "name": "stdout",
     "output_type": "stream",
     "text": [
      "Iteration 1: Merged ['scanpy.tl.rank_genes_groups', 'scanpy.pl.rank_genes_groups']\n",
      "Iteration 2: Merged ['scanpy.pp.neighbors', 'scanpy.tl.umap']\n",
      "Iteration 3: Merged ['scanpy.pl.umap', 'scanpy.pl.diffmap']\n",
      "Iteration 4: Merged ['scanpy.pp.filter_cells', 'scanpy.pp.filter_genes']\n",
      "Iteration 5: Merged ['scanpy.pp.log1p', 'scanpy.pp.highly_variable_genes']\n",
      "Iteration 6: Merged ['scanpy.tl.leiden', 'scanpy.pl.umap']\n",
      "Iteration 7: Merged ['scanpy.pl.rank_genes_groups_violin', 'scanpy.tl.paga']\n",
      "Iteration 8: Merged ['scanpy.logging.print_versions', 'scanpy.read']\n",
      "Iteration 9: Merged ['scanpy.logging.print_versions', 'scanpy.read_10x_mtx']\n",
      "Iteration 10: Merged ['scanpy.pp.normalize_per_cell', 'scanpy.pp.log1p']\n",
      "Iteration 11: Merged ['scanpy.pl.highly_variable_genes', 'scanpy.pp.pca']\n",
      "Iteration 12: Merged ['scanpy.read', 'scanpy.tl.louvain']\n",
      "Iteration 13: Merged ['scanpy.pl.paga_compare', 'scanpy.read']\n",
      "Iteration 14: Merged ['scanpy.tl.pca', 'scanpy.pp.neighbors']\n",
      "Iteration 15: Merged ['scanpy.tl.paga', 'scanpy.pl.paga']\n",
      "Iteration 16: Merged ['scanpy.pl.umap', 'scanpy.pl.dotplot']\n",
      "Iteration 17: Merged ['scanpy.pl.stacked_violin', 'scanpy.pl.matrixplot']\n",
      "Iteration 18: Merged ['scanpy.logging.print_versions', 'scanpy.settings.set_figure_params']\n",
      "Iteration 19: Merged ['scanpy.pl.umap', 'scanpy.tl.ingest']\n",
      "Iteration 20: Merged ['scanpy.external.pp.bbknn', 'scanpy.tl.umap']\n",
      "Iteration 21: Merged ['scanpy.tl.draw_graph', 'scanpy.pl.draw_graph']\n",
      "Iteration 22: Merged ['scanpy.logging.print_header', 'scanpy.settings.set_figure_params']\n",
      "Iteration 23: Merged ['scanpy.pp.calculate_qc_metrics', 'scanpy.pl.violin']\n",
      "Iteration 24: Merged ['scanpy.pl.umap', 'scanpy.pl.violin']\n",
      "Iteration 25: Merged ['scanpy.pl.umap', 'scanpy.tl.score_genes']\n",
      "Iteration 26: Merged ['scanpy.read', 'scanpy.pl.violin']\n",
      "Iteration 27: Merged ['scanpy.pl.umap', 'scanpy.tl.paga']\n",
      "Iteration 28: Merged ['scanpy.pl.scatter', 'scanpy.pp.highly_variable_genes']\n",
      "Iteration 29: Merged ['scanpy.pl.scatter', 'scanpy.pl.violin']\n",
      "Iteration 30: Merged ['scanpy.pl.pca_variance_ratio', 'scanpy.pp.neighbors']\n",
      "Iteration 31: Merged ['scanpy.tl.tsne', 'scanpy.tl.umap']\n",
      "Iteration 32: Merged ['scanpy.tl.diffmap', 'scanpy.tl.draw_graph']\n",
      "Iteration 33: Merged ['scanpy.pl.pca_scatter', 'scanpy.pl.tsne']\n",
      "Iteration 34: Merged ['scanpy.pl.draw_graph', 'scanpy.tl.score_genes_cell_cycle']\n",
      "Iteration 35: Merged ['scanpy.pl.umap', 'scanpy.tl.rank_genes_groups']\n",
      "Iteration 36: Merged ['scanpy.logging.print_versions', 'scanpy.set_figure_params']\n",
      "Iteration 37: Merged ['scanpy.datasets.visium_sge', 'scanpy.pp.calculate_qc_metrics']\n",
      "Iteration 38: Merged ['scanpy.datasets.pbmc3k_processed', 'scanpy.datasets.pbmc68k_reduced']\n",
      "Iteration 39: Merged ['scanpy.pl.umap', 'scanpy.tl.pca']\n",
      "Iteration 40: Merged ['scanpy.pl.umap', 'scanpy.read']\n",
      "Iteration 41: Merged ['scanpy.pl.umap', 'scanpy.pp.pca']\n",
      "Iteration 42: Merged ['scanpy.pl.umap', 'scanpy.tl.embedding_density']\n",
      "Iteration 43: Merged ['scanpy.pl.embedding_density', 'scanpy.pl.umap']\n",
      "Iteration 44: Merged ['scanpy.datasets.paul15', 'scanpy.pp.recipe_zheng17']\n",
      "Iteration 45: Merged ['scanpy.tl.diffmap', 'scanpy.pp.neighbors']\n",
      "Iteration 46: Merged ['scanpy.pl.paga_compare', 'scanpy.tl.dpt']\n",
      "Iteration 47: Merged ['scanpy.datasets.paul15', 'scanpy.pp.log1p']\n",
      "Iteration 48: Merged ['scanpy.pp.scale', 'scanpy.pl.draw_graph']\n",
      "Iteration 49: Merged ['scanpy.read_10x_mtx', 'scanpy.pl.highest_expr_genes']\n",
      "Iteration 50: Merged ['scanpy.pl.scatter', 'scanpy.pp.normalize_total']\n",
      "Iteration 51: Merged ['scanpy.pl.highly_variable_genes', 'scanpy.pp.regress_out']\n",
      "Iteration 52: Merged ['scanpy.pp.scale', 'scanpy.tl.pca']\n",
      "Iteration 53: Merged ['scanpy.pl.pca', 'scanpy.pl.pca_variance_ratio']\n",
      "Iteration 54: Merged ['scanpy.pl.rank_genes_groups_violin', 'scanpy.read']\n",
      "Iteration 55: Merged ['scanpy.pl.rank_genes_groups_violin', 'scanpy.pl.violin']\n",
      "Iteration 56: Merged ['scanpy.pp.filter_genes', 'scanpy.experimental.pp.highly_variable_genes']\n",
      "Iteration 57: Merged ['scanpy.pp.normalize_total', 'scanpy.experimental.pp.normalize_pearson_residuals']\n",
      "Iteration 58: Merged ['scanpy.pp.pca', 'scanpy.tl.tsne']\n",
      "Iteration 59: Merged ['scanpy.pp.neighbors', 'scanpy.tl.leiden']\n",
      "Iteration 60: Merged ['scanpy.set_figure_params', 'scanpy.logging.print_header']\n",
      "Iteration 61: Merged ['scanpy.datasets.pbmc68k_reduced', 'scanpy.pl.umap']\n",
      "Iteration 62: Merged ['scanpy.pp.scale', 'scanpy.pl.matrixplot']\n",
      "Iteration 63: Merged ['scanpy.pl.dotplot', 'scanpy.pl.stacked_violin']\n",
      "Iteration 64: Merged ['scanpy.pl.heatmap', 'scanpy.pl.tracksplot']\n",
      "Iteration 65: Merged ['scanpy.tl.rank_genes_groups', 'scanpy.pl.rank_genes_groups_dotplot']\n",
      "Iteration 66: Merged ['scanpy.pl.rank_genes_groups_matrixplot', 'scanpy.pl.rank_genes_groups_stacked_violin']\n",
      "Iteration 67: Merged ['scanpy.pl.rank_genes_groups_heatmap', 'scanpy.pl.rank_genes_groups_tracksplot']\n",
      "Iteration 68: Merged ['scanpy.pl.rank_genes_groups_violin', 'scanpy.tl.dendrogram']\n",
      "Iteration 69: Merged ['scanpy.pl.dendrogram', 'scanpy.pl.correlation_matrix']\n",
      "Iteration 70: Merged ['scanpy.pl.umap', 'scanpy.pl.scatter']\n",
      "Iteration 71: Merged ['scanpy.pl.umap', 'scanpy.tl.umap']\n",
      "Iteration 72: Merged ['scanpy.pl.umap', 'scanpy.pl.paga']\n",
      "Iteration 73: Merged ['scanpy.pp.pca', 'scanpy.pp.neighbors']\n",
      "Iteration 74: Merged ['scanpy.tl.rank_genes_groups', 'scanpy.tl.paga']\n",
      "Iteration 75: Merged ['scanpy.pl.violin', 'scanpy.pl.scatter']\n",
      "Iteration 76: Merged ['scanpy.pp.filter_cells', 'scanpy.read']\n",
      "Iteration 77: Merged ['scanpy.pl.spatial', 'scanpy.tl.rank_genes_groups']\n",
      "Iteration 78: Merged ['scanpy.pl.rank_genes_groups_heatmap', 'scanpy.pl.spatial']\n",
      "Iteration 79: Merged ['scanpy.pl.spatial', 'scanpy.read_csv']\n",
      "Iteration 80: Merged ['scanpy.pl.spatial', 'scanpy.read']\n",
      "Iteration 81: Merged ['scanpy.concat', 'scanpy.pl.spatial']\n"
     ]
    }
   ],
   "source": [
    "\n",
    "# just print\n",
    "for i, pair in enumerate(merged_pairs_list):\n",
    "    print(f\"Iteration {i+1}: Merged {pair}\")\n",
    "# save\n",
    "with open('merge_rules.json', 'w', encoding='utf-8') as json_file:\n",
    "    json.dump(merged_pairs_list, json_file, ensure_ascii=False, indent=2)\n",
    "with open('merged_text.txt', 'w', encoding='utf-8') as text_file:\n",
    "    for line in lines:\n",
    "        text_file.write(' '.join(line) + '\\n')\n"
   ]
  },
  {
   "cell_type": "markdown",
   "id": "558b6cba",
   "metadata": {},
   "source": [
    "### step4: double check the matrix, and visualize the merged count"
   ]
  },
  {
   "cell_type": "code",
   "execution_count": 7,
   "id": "a7fad5bf",
   "metadata": {
    "scrolled": false
   },
   "outputs": [
    {
     "name": "stdout",
     "output_type": "stream",
     "text": [
      "No valid pair to merge. Ending at iteration 82.\n",
      "No valid pair to merge. Ending at iteration 120.\n",
      "No valid pair to merge. Ending at iteration 143.\n",
      "No valid pair to merge. Ending at iteration 160.\n",
      "No valid pair to merge. Ending at iteration 171.\n"
     ]
    },
    {
     "data": {
      "image/png": "[encoded data removed]",
      "text/plain": [
       "<Figure size 1000x600 with 1 Axes>"
      ]
     },
     "metadata": {},
     "output_type": "display_data"
    }
   ],
   "source": [
    "\n",
    "import matplotlib.pyplot as plt\n",
    "plt.figure(figsize=(10, 6))\n",
    "max_API_values = [2, 3, 4, 5, 6]\n",
    "color_list = ['r', 'g', 'b', 'c', 'm']\n",
    "\n",
    "for max_API, color in zip(max_API_values, color_list):\n",
    "    with open(\"sample.txt\", \"r\") as file:\n",
    "        lines = [line.strip().split(\" \") for line in file]\n",
    "    merged_pairs_list, total_count_iter, lines = self_BPE(lines, num_iterations, max_API)\n",
    "    plt.plot(range(1, len(total_count_iter) + 1), total_count_iter, color=color, label=f\"max #API in pair <= {max_API}\")\n",
    "plt.title(f\"Total Co-occurrence Pair Count vs. compositeBPE Iteration\\nWith constraint: #APIs in pair is limited\")\n",
    "plt.xlabel(\"compositeBPE Iteration\")\n",
    "plt.ylabel(\"Total Co-occurrence Count\")\n",
    "plt.grid(True)\n",
    "plt.legend()\n",
    "plt.savefig(f'Total_Co-occurrenceCount_compositeBPE_Iteration.png')\n",
    "plt.show()\n"
   ]
  },
  {
   "cell_type": "markdown",
   "id": "97d7969a",
   "metadata": {},
   "source": [
    "####  Conclusion: From the slope of curve, when #API maximum limit is losen, more API pair can be included."
   ]
  },
  {
   "cell_type": "markdown",
   "id": "8bd12b91",
   "metadata": {},
   "source": [
    "### step5: Case study. Whether this method is reasonable"
   ]
  },
  {
   "cell_type": "code",
   "execution_count": 36,
   "id": "f12a0258",
   "metadata": {},
   "outputs": [],
   "source": [
    "max_API_merge=2"
   ]
  },
  {
   "cell_type": "code",
   "execution_count": 37,
   "id": "4a63cc2a",
   "metadata": {},
   "outputs": [
    {
     "name": "stdout",
     "output_type": "stream",
     "text": [
      "No valid pair to merge. Ending at iteration 82.\n"
     ]
    }
   ],
   "source": [
    "# rerun for analysis\n",
    "with open(\"sample.txt\", \"r\") as file:\n",
    "    lines = [line.strip().split(\" \") for line in file]\n",
    "merged_pairs_list, total_count_iter, lines = self_BPE(lines, num_iterations, max_API_merge)"
   ]
  },
  {
   "cell_type": "markdown",
   "id": "27810418",
   "metadata": {},
   "source": [
    "####  Metric1: How much tl, pl pair are recognized?"
   ]
  },
  {
   "cell_type": "code",
   "execution_count": 38,
   "id": "f4ed42e4",
   "metadata": {},
   "outputs": [
    {
     "data": {
      "text/plain": [
       "(3,\n",
       " [['scanpy.tl.rank_genes_groups', 'scanpy.pl.rank_genes_groups'],\n",
       "  ['scanpy.tl.paga', 'scanpy.pl.paga'],\n",
       "  ['scanpy.tl.draw_graph', 'scanpy.pl.draw_graph']])"
      ]
     },
     "execution_count": 38,
     "metadata": {},
     "output_type": "execute_result"
    }
   ],
   "source": [
    "def count_same_function_name_pairs(pairs_list):\n",
    "    \"\"\"\n",
    "    Count pairs where the last part of the API names (function names) are the same.\n",
    "    \"\"\"\n",
    "    count = 0\n",
    "    result = []\n",
    "    for pair in pairs_list:\n",
    "        # Split each API name by '.' and compare the last elements\n",
    "        first_api, second_api = pair\n",
    "        if first_api.split('.')[-1] == second_api.split('.')[-1]:\n",
    "            if 'tl' in first_api and 'pl' in second_api:\n",
    "                count += 1\n",
    "                result.append(pair)\n",
    "    return count,result\n",
    "\n",
    "same_function_name_count,same_function_name_pair = count_same_function_name_pairs(merged_pairs_list)\n",
    "same_function_name_count, same_function_name_pair"
   ]
  },
  {
   "cell_type": "code",
   "execution_count": 39,
   "id": "72635455",
   "metadata": {
    "scrolled": true
   },
   "outputs": [
    {
     "data": {
      "text/plain": [
       "(7,\n",
       " [['scanpy.tl.umap', 'scanpy.pl.umap'],\n",
       "  ['scanpy.tl.embedding_density', 'scanpy.pl.embedding_density'],\n",
       "  ['scanpy.tl.draw_graph', 'scanpy.pl.draw_graph'],\n",
       "  ['scanpy.tl.paga', 'scanpy.pl.paga'],\n",
       "  ['scanpy.tl.pca', 'scanpy.pl.pca'],\n",
       "  ['scanpy.tl.rank_genes_groups', 'scanpy.pl.rank_genes_groups'],\n",
       "  ['scanpy.tl.dendrogram', 'scanpy.pl.dendrogram']])"
      ]
     },
     "execution_count": 39,
     "metadata": {},
     "output_type": "execute_result"
    }
   ],
   "source": [
    "# how much tl-pl pair appear in text?\n",
    "with open(\"sample.txt\", \"r\") as file:\n",
    "    initial_lines = [line.strip().split(\" \") for line in file]\n",
    "co_occurrences = count_co_occurrences(initial_lines)\n",
    "count_same_function_name_pairs([i.split('+') for i in list(co_occurrences.keys())])"
   ]
  },
  {
   "cell_type": "markdown",
   "id": "0456c913",
   "metadata": {},
   "source": [
    "#### Metric2: How much tl, pl pair are recognized? With different func name"
   ]
  },
  {
   "cell_type": "code",
   "execution_count": 40,
   "id": "1addf705",
   "metadata": {},
   "outputs": [
    {
     "data": {
      "text/plain": [
       "(5,\n",
       " [['scanpy.tl.rank_genes_groups', 'scanpy.pl.rank_genes_groups'],\n",
       "  ['scanpy.tl.leiden', 'scanpy.pl.umap'],\n",
       "  ['scanpy.tl.paga', 'scanpy.pl.paga'],\n",
       "  ['scanpy.tl.draw_graph', 'scanpy.pl.draw_graph'],\n",
       "  ['scanpy.tl.rank_genes_groups', 'scanpy.pl.rank_genes_groups_dotplot']])"
      ]
     },
     "execution_count": 40,
     "metadata": {},
     "output_type": "execute_result"
    }
   ],
   "source": [
    "def count_tlpl_function_name_pairs(pairs_list):\n",
    "    \"\"\"\n",
    "    Count pairs with tl, pl as pairs\n",
    "    \"\"\"\n",
    "    count = 0\n",
    "    result = []\n",
    "    for pair in pairs_list:\n",
    "        # Split each API name by '.' and compare the last elements\n",
    "        first_api, second_api = pair\n",
    "        if 'tl' in first_api and 'pl' in second_api:\n",
    "            count += 1\n",
    "            result.append(pair)\n",
    "    return count,result\n",
    "\n",
    "same_function_name_count,same_function_name_pair = count_tlpl_function_name_pairs(merged_pairs_list)\n",
    "same_function_name_count, same_function_name_pair"
   ]
  },
  {
   "cell_type": "code",
   "execution_count": 41,
   "id": "786f032c",
   "metadata": {},
   "outputs": [
    {
     "data": {
      "text/plain": [
       "(21,\n",
       " [['scanpy.tl.umap', 'scanpy.pl.umap'],\n",
       "  ['scanpy.tl.ingest', 'scanpy.pl.umap'],\n",
       "  ['scanpy.tl.embedding_density', 'scanpy.pl.embedding_density'],\n",
       "  ['scanpy.tl.draw_graph', 'scanpy.pl.draw_graph'],\n",
       "  ['scanpy.tl.paga', 'scanpy.pl.paga'],\n",
       "  ['scanpy.tl.pca', 'scanpy.pl.pca'],\n",
       "  ['scanpy.tl.leiden', 'scanpy.pl.umap'],\n",
       "  ['scanpy.tl.rank_genes_groups', 'scanpy.pl.rank_genes_groups'],\n",
       "  ['scanpy.tl.leiden', 'scanpy.pl.tsne'],\n",
       "  ['scanpy.tl.rank_genes_groups', 'scanpy.pl.rank_genes_groups_dotplot'],\n",
       "  ['scanpy.tl.dendrogram', 'scanpy.pl.dendrogram'],\n",
       "  ['scanpy.tl.score_genes', 'scanpy.pl.umap'],\n",
       "  ['scanpy.tl.louvain', 'scanpy.pl.umap'],\n",
       "  ['scanpy.tl.paga', 'scanpy.pl.paga_compare'],\n",
       "  ['scanpy.tl.dpt', 'scanpy.pl.umap'],\n",
       "  ['scanpy.tl.paga', 'scanpy.pl.paga_path'],\n",
       "  ['scanpy.tl.draw_graph', 'scanpy.pl.pca_scatter'],\n",
       "  ['scanpy.tl.score_genes_cell_cycle', 'scanpy.pl.umap'],\n",
       "  ['scanpy.tl.rank_genes_groups', 'scanpy.pl.umap'],\n",
       "  ['scanpy.tl.louvain', 'scanpy.pl.rank_genes_groups_violin'],\n",
       "  ['scanpy.tl.rank_genes_groups', 'scanpy.pl.rank_genes_groups_heatmap']])"
      ]
     },
     "execution_count": 41,
     "metadata": {},
     "output_type": "execute_result"
    }
   ],
   "source": [
    "# how much tl-pl pair appear in text?\n",
    "count_tlpl_function_name_pairs([i.split('+') for i in list(co_occurrences.keys())])"
   ]
  },
  {
   "cell_type": "markdown",
   "id": "6d51da14",
   "metadata": {},
   "source": [
    "#### Metric3: How much same func name pair are recognized, without tl-pl alignment"
   ]
  },
  {
   "cell_type": "code",
   "execution_count": 42,
   "id": "c445e6bf",
   "metadata": {},
   "outputs": [
    {
     "data": {
      "text/plain": [
       "(4,\n",
       " [['scanpy.tl.rank_genes_groups', 'scanpy.pl.rank_genes_groups'],\n",
       "  ['scanpy.tl.paga', 'scanpy.pl.paga'],\n",
       "  ['scanpy.tl.draw_graph', 'scanpy.pl.draw_graph'],\n",
       "  ['scanpy.pl.umap', 'scanpy.tl.umap']])"
      ]
     },
     "execution_count": 42,
     "metadata": {},
     "output_type": "execute_result"
    }
   ],
   "source": [
    "def count_same_function_name(pairs_list):\n",
    "    \"\"\"\n",
    "    Count pairs with same name, no need for tl-pl pair\n",
    "    \"\"\"\n",
    "    count = 0\n",
    "    result = []\n",
    "    for pair in pairs_list:\n",
    "        # Split each API name by '.' and compare the last elements\n",
    "        first_api, second_api = pair\n",
    "        if first_api.split('.')[-1] == second_api.split('.')[-1] and first_api!=second_api:\n",
    "            count += 1\n",
    "            result.append(pair)\n",
    "    return count,result\n",
    "\n",
    "same_function_name_count,same_function_name_pair = count_same_function_name(merged_pairs_list)\n",
    "same_function_name_count, same_function_name_pair"
   ]
  },
  {
   "cell_type": "code",
   "execution_count": 43,
   "id": "2c834360",
   "metadata": {},
   "outputs": [
    {
     "data": {
      "text/plain": [
       "[{'scanpy.pl.draw_graph', 'scanpy.tl.draw_graph'},\n",
       " {'scanpy.pl.paga', 'scanpy.tl.paga'},\n",
       " {'scanpy.pl.pca', 'scanpy.tl.pca'},\n",
       " {'scanpy.pl.embedding_density', 'scanpy.tl.embedding_density'},\n",
       " {'scanpy.pl.dendrogram', 'scanpy.tl.dendrogram'},\n",
       " {'scanpy.pl.umap', 'scanpy.tl.umap'},\n",
       " {'scanpy.pl.rank_genes_groups', 'scanpy.tl.rank_genes_groups'},\n",
       " {'scanpy.pl.highly_variable_genes', 'scanpy.pp.highly_variable_genes'}]"
      ]
     },
     "execution_count": 43,
     "metadata": {},
     "output_type": "execute_result"
    }
   ],
   "source": [
    "# how much same name pair appear in text?\n",
    "same_function_name_count, same_function_name_pair = count_same_function_name([i.split('+') for i in list(co_occurrences.keys())])\n",
    "# ignore the order in pair\n",
    "same_function_name_pair = [set(i) for i in same_function_name_pair]\n",
    "unique_tuples = set(tuple(sorted(item)) for item in same_function_name_pair)\n",
    "unique_sets = [set(item) for item in unique_tuples]\n",
    "unique_sets"
   ]
  },
  {
   "cell_type": "markdown",
   "id": "472f0180",
   "metadata": {},
   "source": [
    "#### Conclusion: When checking the tl-pl pair (as this rule is obvious), BPE can recognize only part of the pairs."
   ]
  },
  {
   "cell_type": "code",
   "execution_count": null,
   "id": "bfebaf16",
   "metadata": {},
   "outputs": [],
   "source": []
  },
  {
   "cell_type": "code",
   "execution_count": null,
   "id": "1f81323f",
   "metadata": {},
   "outputs": [],
   "source": []
  },
  {
   "cell_type": "code",
   "execution_count": null,
   "id": "c65f4b3e",
   "metadata": {},
   "outputs": [],
   "source": []
  },
  {
   "cell_type": "code",
   "execution_count": null,
   "id": "803bde4a",
   "metadata": {},
   "outputs": [],
   "source": []
  }
 ],
 "metadata": {
  "kernelspec": {
   "display_name": "Python 3 (ipykernel)",
   "language": "python",
   "name": "python3"
  },
  "language_info": {
   "codemirror_mode": {
    "name": "ipython",
    "version": 3
   },
   "file_extension": ".py",
   "mimetype": "text/x-python",
   "name": "python",
   "nbconvert_exporter": "python",
   "pygments_lexer": "ipython3",
   "version": "3.9.13"
  }
 },
 "nbformat": 4,
 "nbformat_minor": 5
}
