{
 "cells": [
  {
   "cell_type": "code",
   "execution_count": 1,
   "id": "8fc1b892-1a86-4373-a99b-534db3a044e0",
   "metadata": {},
   "outputs": [],
   "source": [
    "import json\n",
    "with open('./summarized_responses.json') as f:\n",
    "    data = json.load(f)"
   ]
  },
  {
   "cell_type": "code",
   "execution_count": 6,
   "id": "7d60644f-94f6-4c60-b357-081948dfa200",
   "metadata": {},
   "outputs": [
    {
     "data": {
      "text/plain": [
       "dict_keys(['text', 'code', 'relevant_API'])"
      ]
     },
     "execution_count": 6,
     "metadata": {},
     "output_type": "execute_result"
    }
   ],
   "source": [
    "data['basic-analysis'][0].keys()"
   ]
  },
  {
   "cell_type": "code",
   "execution_count": 24,
   "id": "cf3efc9b-2c5b-49f5-a98b-59d3f891609c",
   "metadata": {},
   "outputs": [
    {
     "name": "stdout",
     "output_type": "stream",
     "text": [
      "553\n",
      "['scanpy.logging.print_versions', 'scanpy.settings.set_figure_params', 'scanpy.datasets.pbmc3k_processed', 'scanpy.datasets.pbmc68k_reduced', '<SENTINEL>', 'scanpy.pp.pca', 'scanpy.pp.neighbors', 'scanpy.tl.umap', 'scanpy.pl.umap', '<SENTINEL>', 'scanpy.tl.ingest', 'scanpy.pl.umap', '<SENTINEL>', 'scanpy.pl.umap', '<SENTINEL>', 'scanpy.tl.pca', 'scanpy.external.pp.bbknn', 'scanpy.tl.umap', '<SENTINEL>', 'scanpy.pl.umap']\n"
     ]
    }
   ],
   "source": [
    "calls = []\n",
    "SENTINEL = '<SENTINEL>'\n",
    "\n",
    "for tutorial_name, tutorials in data.items():\n",
    "    for t in tutorials:\n",
    "        calls.extend(t['relevant_API'])\n",
    "        calls.append(SENTINEL)\n",
    "\n",
    "print(len(calls))\n",
    "print(calls[:20])"
   ]
  },
  {
   "cell_type": "code",
   "execution_count": 27,
   "id": "697bc79d-7b11-4716-87c4-ad7e375bcc08",
   "metadata": {},
   "outputs": [
    {
     "data": {
      "text/plain": [
       "[(('scanpy.tl.rank_genes_groups', 'scanpy.pl.rank_genes_groups'), 8),\n",
       " (('scanpy.pp.pca', 'scanpy.pp.neighbors'), 6),\n",
       " (('scanpy.pp.neighbors', 'scanpy.tl.umap'), 6),\n",
       " (('scanpy.pl.umap', 'scanpy.pl.diffmap'), 6),\n",
       " (('scanpy.pp.filter_cells', 'scanpy.pp.filter_genes'), 5),\n",
       " (('scanpy.pp.highly_variable_genes', 'scanpy.pl.highly_variable_genes'), 5),\n",
       " (('scanpy.tl.leiden', 'scanpy.pl.umap'), 4),\n",
       " (('scanpy.pl.rank_genes_groups', 'scanpy.pl.rank_genes_groups_violin'), 4),\n",
       " (('scanpy.pp.normalize_per_cell', 'scanpy.pp.log1p'), 4),\n",
       " (('scanpy.read', 'scanpy.tl.louvain'), 4)]"
      ]
     },
     "execution_count": 27,
     "metadata": {},
     "output_type": "execute_result"
    }
   ],
   "source": [
    "from collections import Counter\n",
    "\n",
    "\n",
    "def count_bigrams(tokens):\n",
    "    c = Counter()\n",
    "    for i in range(len(tokens)-1):\n",
    "        w1 = tokens[i]\n",
    "        w2 = tokens[i+1]\n",
    "        c[(w1, w2)] += 1\n",
    "    non_consecutive = [k for k in c.keys() if SENTINEL in k]\n",
    "    for k in non_consecutive:\n",
    "        del c[k]\n",
    "    return c\n",
    "\n",
    "\n",
    "r0 = calls.copy()\n",
    "c0 = count_bigrams(r0)\n",
    "c0.most_common(10)"
   ]
  },
  {
   "cell_type": "code",
   "execution_count": 30,
   "id": "866945a4-dc47-46c0-9bf9-a33423b9cddd",
   "metadata": {},
   "outputs": [
    {
     "name": "stdout",
     "output_type": "stream",
     "text": [
      "Merging scanpy.pp.pca -> scanpy.pp.neighbors of frequency 6 >= 5\n",
      "Merging scanpy.pp.pca -> scanpy.pp.neighbors of frequency 6 >= 5\n",
      "Merging scanpy.pp.pca -> scanpy.pp.neighbors of frequency 6 >= 5\n",
      "Merging scanpy.pp.filter_cells -> scanpy.pp.filter_genes of frequency 5 >= 5\n",
      "Merging scanpy.pp.highly_variable_genes -> scanpy.pl.highly_variable_genes of frequency 5 >= 5\n",
      "Merging scanpy.tl.rank_genes_groups -> scanpy.pl.rank_genes_groups of frequency 8 >= 5\n",
      "Merging scanpy.tl.rank_genes_groups -> scanpy.pl.rank_genes_groups of frequency 8 >= 5\n",
      "Merging scanpy.tl.rank_genes_groups -> scanpy.pl.rank_genes_groups of frequency 8 >= 5\n",
      "Merging scanpy.pp.filter_cells -> scanpy.pp.filter_genes of frequency 5 >= 5\n",
      "Merging scanpy.pp.pca -> scanpy.pp.neighbors of frequency 6 >= 5\n",
      "Merging scanpy.pp.highly_variable_genes -> scanpy.pl.highly_variable_genes of frequency 5 >= 5\n",
      "Merging scanpy.tl.rank_genes_groups -> scanpy.pl.rank_genes_groups of frequency 8 >= 5\n",
      "Merging scanpy.pl.umap -> scanpy.pl.diffmap of frequency 6 >= 5\n",
      "Merging scanpy.pp.highly_variable_genes -> scanpy.pl.highly_variable_genes of frequency 5 >= 5\n",
      "Merging scanpy.tl.rank_genes_groups -> scanpy.pl.rank_genes_groups of frequency 8 >= 5\n",
      "Merging scanpy.pl.umap -> scanpy.pl.diffmap of frequency 6 >= 5\n",
      "Merging scanpy.tl.rank_genes_groups -> scanpy.pl.rank_genes_groups of frequency 8 >= 5\n",
      "Merging scanpy.pp.filter_cells -> scanpy.pp.filter_genes of frequency 5 >= 5\n",
      "Merging scanpy.pp.highly_variable_genes -> scanpy.pl.highly_variable_genes of frequency 5 >= 5\n",
      "Merging scanpy.pl.umap -> scanpy.pl.diffmap of frequency 6 >= 5\n",
      "Merging scanpy.pl.umap -> scanpy.pl.diffmap of frequency 6 >= 5\n",
      "Merging scanpy.tl.rank_genes_groups -> scanpy.pl.rank_genes_groups of frequency 8 >= 5\n",
      "Merging scanpy.pp.filter_cells -> scanpy.pp.filter_genes of frequency 5 >= 5\n",
      "Merging scanpy.pp.highly_variable_genes -> scanpy.pl.highly_variable_genes of frequency 5 >= 5\n",
      "Merging scanpy.pl.umap -> scanpy.pl.diffmap of frequency 6 >= 5\n",
      "Merging scanpy.pl.umap -> scanpy.pl.diffmap of frequency 6 >= 5\n",
      "Merging scanpy.tl.rank_genes_groups -> scanpy.pl.rank_genes_groups of frequency 8 >= 5\n",
      "Merging scanpy.pp.filter_cells -> scanpy.pp.filter_genes of frequency 5 >= 5\n",
      "Merging scanpy.pp.pca -> scanpy.pp.neighbors of frequency 6 >= 5\n",
      "Merging scanpy.pp.pca -> scanpy.pp.neighbors of frequency 6 >= 5\n",
      "Merging scanpy.pp.neighbors -> scanpy.tl.umap of frequency 6 >= 5\n"
     ]
    }
   ],
   "source": [
    "def merge(tokens: [str], counts: Counter, threshold: int, verbose=False):\n",
    "    merged = []\n",
    "    i = 0\n",
    "    while i < len(tokens) - 1:\n",
    "        w1 = tokens[i]\n",
    "        w2 = tokens[i+1]\n",
    "        c = counts[(w1, w2)]\n",
    "        if c >= threshold:\n",
    "            m = '{} -> {}'.format(w1, w2)\n",
    "            if verbose:\n",
    "                print('Merging {} of frequency {} >= {}'.format(m, c, threshold))\n",
    "            merged.append(m)\n",
    "            i += 2\n",
    "        else:\n",
    "            merged.append(w1)\n",
    "            i += 1\n",
    "    if i < len(tokens):\n",
    "        merged.append(tokens[i])\n",
    "    return merged\n",
    "\n",
    "r1 = merge(r0, c0, threshold=5, verbose=True)"
   ]
  },
  {
   "cell_type": "code",
   "execution_count": 36,
   "id": "38c88547-1f0a-4856-909f-9fde3f0dba25",
   "metadata": {},
   "outputs": [
    {
     "name": "stdout",
     "output_type": "stream",
     "text": [
      "---------- Round 1 ----------\n",
      "Top 5 pairs\n",
      "('scanpy.tl.rank_genes_groups', 'scanpy.pl.rank_genes_groups') occurred 8 times\n",
      "('scanpy.pp.pca', 'scanpy.pp.neighbors') occurred 6 times\n",
      "('scanpy.pp.neighbors', 'scanpy.tl.umap') occurred 6 times\n",
      "('scanpy.pl.umap', 'scanpy.pl.diffmap') occurred 6 times\n",
      "('scanpy.pp.filter_cells', 'scanpy.pp.filter_genes') occurred 5 times\n",
      "Merging scanpy.pp.pca -> scanpy.pp.neighbors of frequency 6 >= 3\n",
      "Merging scanpy.pp.pca -> scanpy.pp.neighbors of frequency 6 >= 3\n",
      "Merging scanpy.pp.pca -> scanpy.pp.neighbors of frequency 6 >= 3\n",
      "Merging scanpy.tl.paga -> scanpy.pl.paga of frequency 3 >= 3\n",
      "Merging scanpy.tl.paga -> scanpy.pl.paga of frequency 3 >= 3\n",
      "Merging scanpy.pp.filter_cells -> scanpy.pp.filter_genes of frequency 5 >= 3\n",
      "Merging scanpy.pp.normalize_total -> scanpy.pp.log1p of frequency 3 >= 3\n",
      "Merging scanpy.pp.highly_variable_genes -> scanpy.pl.highly_variable_genes of frequency 5 >= 3\n",
      "Merging scanpy.tl.leiden -> scanpy.pl.umap of frequency 4 >= 3\n",
      "Merging scanpy.tl.rank_genes_groups -> scanpy.pl.rank_genes_groups of frequency 8 >= 3\n",
      "Merging scanpy.tl.rank_genes_groups -> scanpy.pl.rank_genes_groups of frequency 8 >= 3\n",
      "Merging scanpy.tl.rank_genes_groups -> scanpy.pl.rank_genes_groups of frequency 8 >= 3\n",
      "Merging scanpy.pp.filter_cells -> scanpy.pp.filter_genes of frequency 5 >= 3\n",
      "Merging scanpy.tl.leiden -> scanpy.pl.umap of frequency 4 >= 3\n",
      "Merging scanpy.pl.stacked_violin -> scanpy.pl.matrixplot of frequency 3 >= 3\n",
      "Merging scanpy.tl.paga -> scanpy.pl.paga of frequency 3 >= 3\n",
      "Merging scanpy.pp.normalize_per_cell -> scanpy.pp.log1p of frequency 4 >= 3\n",
      "Merging scanpy.pp.pca -> scanpy.pp.neighbors of frequency 6 >= 3\n",
      "Merging scanpy.pp.highly_variable_genes -> scanpy.pl.highly_variable_genes of frequency 5 >= 3\n",
      "Merging scanpy.read -> scanpy.tl.louvain of frequency 4 >= 3\n",
      "Merging scanpy.pl.umap -> scanpy.tl.rank_genes_groups of frequency 4 >= 3\n",
      "Merging scanpy.tl.paga -> scanpy.pl.paga_compare of frequency 4 >= 3\n",
      "Merging scanpy.tl.pca -> scanpy.pp.neighbors of frequency 4 >= 3\n",
      "Merging scanpy.pl.umap -> scanpy.pl.diffmap of frequency 6 >= 3\n",
      "Merging scanpy.pp.normalize_per_cell -> scanpy.pp.log1p of frequency 4 >= 3\n",
      "Merging scanpy.pp.highly_variable_genes -> scanpy.pl.highly_variable_genes of frequency 5 >= 3\n",
      "Merging scanpy.read -> scanpy.tl.louvain of frequency 4 >= 3\n",
      "Merging scanpy.pl.umap -> scanpy.tl.rank_genes_groups of frequency 4 >= 3\n",
      "Merging scanpy.tl.paga -> scanpy.pl.paga_compare of frequency 4 >= 3\n",
      "Merging scanpy.tl.pca -> scanpy.pp.neighbors of frequency 4 >= 3\n",
      "Merging scanpy.tl.dpt -> scanpy.pl.umap of frequency 3 >= 3\n",
      "Merging scanpy.tl.rank_genes_groups -> scanpy.pl.rank_genes_groups of frequency 8 >= 3\n",
      "Merging scanpy.pp.filter_cells -> scanpy.pp.filter_genes of frequency 5 >= 3\n",
      "Merging scanpy.pp.highly_variable_genes -> scanpy.pl.highly_variable_genes of frequency 5 >= 3\n",
      "Merging scanpy.pl.umap -> scanpy.pl.diffmap of frequency 6 >= 3\n",
      "Merging scanpy.read -> scanpy.tl.louvain of frequency 4 >= 3\n",
      "Merging scanpy.pl.umap -> scanpy.tl.rank_genes_groups of frequency 4 >= 3\n",
      "Merging scanpy.pl.stacked_violin -> scanpy.pl.matrixplot of frequency 3 >= 3\n",
      "Merging scanpy.tl.paga -> scanpy.pl.paga_compare of frequency 4 >= 3\n",
      "Merging scanpy.tl.pca -> scanpy.pp.neighbors of frequency 4 >= 3\n",
      "Merging scanpy.tl.dpt -> scanpy.pl.umap of frequency 3 >= 3\n",
      "Merging scanpy.tl.rank_genes_groups -> scanpy.pl.rank_genes_groups of frequency 8 >= 3\n",
      "Merging scanpy.pp.filter_cells -> scanpy.pp.filter_genes of frequency 5 >= 3\n",
      "Merging scanpy.pp.normalize_per_cell -> scanpy.pp.log1p of frequency 4 >= 3\n",
      "Merging scanpy.pp.highly_variable_genes -> scanpy.pl.highly_variable_genes of frequency 5 >= 3\n",
      "Merging scanpy.pl.umap -> scanpy.pl.diffmap of frequency 6 >= 3\n",
      "Merging scanpy.read -> scanpy.tl.louvain of frequency 4 >= 3\n",
      "Merging scanpy.pl.umap -> scanpy.tl.rank_genes_groups of frequency 4 >= 3\n",
      "Merging scanpy.pl.stacked_violin -> scanpy.pl.matrixplot of frequency 3 >= 3\n",
      "Merging scanpy.tl.paga -> scanpy.pl.paga_compare of frequency 4 >= 3\n",
      "Merging scanpy.tl.pca -> scanpy.pp.neighbors of frequency 4 >= 3\n",
      "Merging scanpy.tl.dpt -> scanpy.pl.umap of frequency 3 >= 3\n",
      "Merging scanpy.tl.rank_genes_groups -> scanpy.pl.rank_genes_groups of frequency 8 >= 3\n",
      "Merging scanpy.pp.filter_cells -> scanpy.pp.filter_genes of frequency 5 >= 3\n",
      "Merging scanpy.pp.normalize_total -> scanpy.pp.log1p of frequency 3 >= 3\n",
      "Merging scanpy.pp.pca -> scanpy.pp.neighbors of frequency 6 >= 3\n",
      "Merging scanpy.tl.umap -> scanpy.tl.leiden of frequency 3 >= 3\n",
      "Merging scanpy.pp.normalize_per_cell -> scanpy.pp.log1p of frequency 4 >= 3\n",
      "Merging scanpy.pp.pca -> scanpy.pp.neighbors of frequency 6 >= 3\n",
      "Merging scanpy.tl.umap -> scanpy.tl.leiden of frequency 3 >= 3\n",
      "Merging scanpy.pp.normalize_total -> scanpy.pp.log1p of frequency 3 >= 3\n",
      "Merging scanpy.pp.neighbors -> scanpy.tl.umap of frequency 6 >= 3\n",
      "---------- Round 2 ----------\n",
      "Top 5 pairs\n",
      "('scanpy.tl.rank_genes_groups -> scanpy.pl.rank_genes_groups', 'scanpy.pl.rank_genes_groups_violin') occurred 4 times\n",
      "('scanpy.pp.pca -> scanpy.pp.neighbors', 'scanpy.tl.umap') occurred 3 times\n",
      "('scanpy.tl.dpt -> scanpy.pl.umap', 'scanpy.pl.diffmap') occurred 3 times\n",
      "('scanpy.logging.print_versions', 'scanpy.settings.set_figure_params') occurred 2 times\n",
      "('scanpy.tl.umap', 'scanpy.pl.umap') occurred 2 times\n",
      "Merging scanpy.pp.pca -> scanpy.pp.neighbors -> scanpy.tl.umap of frequency 3 >= 3\n",
      "Merging scanpy.pp.pca -> scanpy.pp.neighbors -> scanpy.tl.umap of frequency 3 >= 3\n",
      "Merging scanpy.pp.pca -> scanpy.pp.neighbors -> scanpy.tl.umap of frequency 3 >= 3\n",
      "Merging scanpy.tl.rank_genes_groups -> scanpy.pl.rank_genes_groups -> scanpy.pl.rank_genes_groups_violin of frequency 4 >= 3\n",
      "Merging scanpy.tl.dpt -> scanpy.pl.umap -> scanpy.pl.diffmap of frequency 3 >= 3\n",
      "Merging scanpy.tl.rank_genes_groups -> scanpy.pl.rank_genes_groups -> scanpy.pl.rank_genes_groups_violin of frequency 4 >= 3\n",
      "Merging scanpy.tl.dpt -> scanpy.pl.umap -> scanpy.pl.diffmap of frequency 3 >= 3\n",
      "Merging scanpy.tl.rank_genes_groups -> scanpy.pl.rank_genes_groups -> scanpy.pl.rank_genes_groups_violin of frequency 4 >= 3\n",
      "Merging scanpy.tl.dpt -> scanpy.pl.umap -> scanpy.pl.diffmap of frequency 3 >= 3\n",
      "Merging scanpy.tl.rank_genes_groups -> scanpy.pl.rank_genes_groups -> scanpy.pl.rank_genes_groups_violin of frequency 4 >= 3\n",
      "---------- Round 3 ----------\n",
      "Top 5 pairs\n",
      "('scanpy.logging.print_versions', 'scanpy.settings.set_figure_params') occurred 2 times\n",
      "('scanpy.external.pp.bbknn', 'scanpy.tl.umap') occurred 2 times\n",
      "('scanpy.tl.draw_graph', 'scanpy.pl.draw_graph') occurred 2 times\n",
      "('scanpy.logging.print_header', 'scanpy.settings.set_figure_params') occurred 2 times\n",
      "('scanpy.pp.calculate_qc_metrics', 'scanpy.pl.violin') occurred 2 times\n",
      "Stopping after Round 3\n"
     ]
    }
   ],
   "source": [
    "def iterative_merge(tokens, threshold, verbose=False):\n",
    "    before = tokens[:]\n",
    "    rounds = 0\n",
    "    while True:\n",
    "        rounds += 1\n",
    "        counts = count_bigrams(before)\n",
    "        if verbose:\n",
    "            print('-' * 10, 'Round {}'.format(rounds), '-' * 10)\n",
    "            print('Top 5 pairs')\n",
    "            for k, v in counts.most_common(5):\n",
    "                print('{} occurred {} times'.format(k, v))\n",
    "        after = merge(before, counts, threshold=threshold, verbose=verbose)\n",
    "        if len(after) == len(before):\n",
    "            break\n",
    "        before = after\n",
    "    if verbose:\n",
    "        print('Stopping after Round {}'.format(rounds))\n",
    "    return after\n",
    "\n",
    "merged = iterative_merge(calls, threshold=3, verbose=True)"
   ]
  },
  {
   "cell_type": "code",
   "execution_count": null,
   "id": "e1ddea24-6a9b-45a8-a703-4f37e2be6d7d",
   "metadata": {},
   "outputs": [],
   "source": []
  }
 ],
 "metadata": {
  "kernelspec": {
   "display_name": "Python 3 (ipykernel)",
   "language": "python",
   "name": "python3"
  },
  "language_info": {
   "codemirror_mode": {
    "name": "ipython",
    "version": 3
   },
   "file_extension": ".py",
   "mimetype": "text/x-python",
   "name": "python",
   "nbconvert_exporter": "python",
   "pygments_lexer": "ipython3",
   "version": "3.10.13"
  }
 },
 "nbformat": 4,
 "nbformat_minor": 5
}
