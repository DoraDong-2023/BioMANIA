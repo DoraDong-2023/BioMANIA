{
 "cells": [
  {
   "cell_type": "markdown",
   "id": "5a72797e",
   "metadata": {},
   "source": [
    "**Predicted API: scanpy.datasets.pbmc3k_processed**\n",
    "\n",
    "The task is to load a built-in dataset that can be used for grouping similar data points together, which is important in clustering analysis. We solved it by using the function `scanpy.datasets.pbmc3k_processed()`, which provides a pre-processed collection of data from 3,000 blood cells for our analysis."
   ]
  },
  {
   "cell_type": "code",
   "execution_count": null,
   "id": "0b707f93",
   "metadata": {},
   "outputs": [],
   "source": [
    "from scanpy.datasets import pbmc3k_processed\n",
    "result_1 = pbmc3k_processed()"
   ]
  },
  {
   "cell_type": "markdown",
   "id": "5a7ece8b",
   "metadata": {},
   "source": [
    "**Executed results [Success]**\n",
    "\n",
    "We obtain a new variable result_1: AnnData object with n_obs × n_vars = 2638 × 1838\n",
    "    obs: 'n_genes', 'percent_mito', 'n_counts', 'louvain'\n",
    "    var: 'n_cells'\n",
    "    uns: 'draw_graph', 'louvain', 'louvain_colors', 'neighbors', 'pca', 'rank_genes_groups'\n",
    "    obsm: 'X_pca', 'X_tsne', 'X_umap', 'X_draw_graph_fr'\n",
    "    varm: 'PCs'\n",
    "    obsp: 'distances', 'connectivities'"
   ]
  },
  {
   "cell_type": "markdown",
   "id": "02fd213a",
   "metadata": {},
   "source": [
    "**Executed results [Success]**\n",
    "\n",
    "We visualize the first 5 rows of the table data"
   ]
  },
  {
   "cell_type": "markdown",
   "id": "e75c2ac6",
   "metadata": {},
   "source": [
    "| index | n_genes | percent_mito | n_counts | louvain |\n",
    "|--|--|--|--|--|\n",
    "| AAACATACAACCAC-1 | 781 | 0.030177759 | 2419.0 | CD4 T cells |\n",
    "| AAACATTGAGCTAC-1 | 1352 | 0.037935957 | 4903.0 | B cells |\n",
    "| AAACATTGATCAGC-1 | 1131 | 0.008897362 | 3147.0 | CD4 T cells |\n",
    "| AAACCGTGCTTCCG-1 | 960 | 0.017430846 | 2639.0 | CD14+ Monocytes |\n",
    "| AAACCGTGTATGCG-1 | 522 | 0.012244898 | 980.0 | NK cells |"
   ]
  },
  {
   "cell_type": "markdown",
   "id": "de013e8d",
   "metadata": {},
   "source": [
    "**Predicted API: scanpy.pp.calculate_qc_metrics**\n",
    "\n",
    "The task is to filter and assess data quality based on specific metrics. We solved it by using a function called `calculate_qc_metrics` from the Scanpy library, which analyzes the data, calculates various quality control measurements, and can update the results directly in the data structure we are working with."
   ]
  },
  {
   "cell_type": "code",
   "execution_count": null,
   "id": "9943e262",
   "metadata": {},
   "outputs": [],
   "source": [
    "from scanpy.pp import calculate_qc_metrics\n",
    "result_2 = calculate_qc_metrics(result_1, qc_vars=['mito'], inplace=True)"
   ]
  },
  {
   "cell_type": "markdown",
   "id": "199ecc9e",
   "metadata": {},
   "source": [
    "**Executed results [Fail]**\n",
    "\n",
    "KeyError: 'mito'\n",
    "\n",
    "The above exception was the direct cause of the following exception:\n",
    "\n",
    "Traceback (most recent call last):\n",
    "  File \"/home/z6dong/BioChat/refer/src/BioMANIA/src/inference/execution_UI.py\", line 524, in execute_api_call\n",
    "    exec(api_call_code, locals(), globals())\n",
    "  File \"<string>\", line 1, in <module>\n",
    "  File \"/home/z6dong/anaconda3/envs/biomania_39/lib/python3.9/site-packages/scanpy/preprocessing/_qc.py\", line 316, in calculate_qc_metrics\n",
    "    obs_metrics = describe_obs(\n",
    "  File \"/home/z6dong/anaconda3/envs/biomania_39/lib/python3.9/site-packages/scanpy/preprocessing/_qc.py\", line 129, in describe_obs\n",
    "    X[:, adata.var[qc_var].values].sum(axis=1)\n",
    "  File \"/home/z6dong/anaconda3/envs/biomania_39/lib/python3.9/site-packages/pandas/core/frame.py\", line 3896, in __getitem__\n",
    "    indexer = self.columns.get_loc(key)\n",
    "  File \"/home/z6dong/anaconda3/envs/biomania_39/lib/python3.9/site-packages/pandas/core/indexes/base.py\", line 3797, in get_loc\n",
    "    raise KeyError(key) from err\n",
    "KeyError: 'mito'"
   ]
  },
  {
   "cell_type": "code",
   "execution_count": null,
   "id": "bd9809f4",
   "metadata": {},
   "outputs": [],
   "source": [
    "result_1.var['mito'] = result_1.var_names.str.startswith('MT-')\n",
    "result_2 = calculate_qc_metrics(result_1, qc_vars=['mito'], inplace=True)"
   ]
  },
  {
   "cell_type": "markdown",
   "id": "3d0ddb50",
   "metadata": {},
   "source": [
    "**Executed results [Success]**\n",
    "\n",
    "We obtain a new variable result_1: AnnData object with n_obs × n_vars = 2638 × 1838\n",
    "    obs: 'n_genes', 'percent_mito', 'n_counts', 'louvain', 'n_genes_by_counts', 'log1p_n_genes_by_counts', 'total_counts', 'log1p_total_counts', 'pct_counts_in_top_50_genes', 'pct_counts_in_top_100_genes', 'pct_counts_in_top_200_genes', 'pct_counts_in_top_500_genes', 'total_counts_mito', 'log1p_total_counts_mito', 'pct_counts_mito'\n",
    "    var: 'n_cells', 'mito', 'n_cells_by_counts', 'mean_counts', 'log1p_mean_counts', 'pct_dropout_by_counts', 'total_counts', 'log1p_total_counts'\n",
    "    uns: 'draw_graph', 'louvain', 'louvain_colors', 'neighbors', 'pca', 'rank_genes_groups'\n",
    "    obsm: 'X_pca', 'X_tsne', 'X_umap', 'X_draw_graph_fr'\n",
    "    varm: 'PCs'\n",
    "    obsp: 'distances', 'connectivities'"
   ]
  },
  {
   "cell_type": "markdown",
   "id": "fe6382af",
   "metadata": {},
   "source": [
    "**Executed results [Success]**\n",
    "\n",
    "We visualize the first 5 rows of the table data"
   ]
  },
  {
   "cell_type": "markdown",
   "id": "779a0f97",
   "metadata": {},
   "source": [
    "| index | n_genes | percent_mito | n_counts | louvain | n_genes_by_counts | log1p_n_genes_by_counts | total_counts | log1p_total_counts | pct_counts_in_top_50_genes | pct_counts_in_top_100_genes | pct_counts_in_top_200_genes | pct_counts_in_top_500_genes | total_counts_mito | log1p_total_counts_mito | pct_counts_mito |\n",
    "|--|--|--|--|--|--|--|--|--|--|--|--|--|--|--|--|\n",
    "| AAACATACAACCAC-1 | 781 | 0.030177759 | 2419.0 | CD4 T cells | 1838 | 7.516977224604321 | -54.403603 |  | -394.0494943827394 | -591.2966152833859 | -652.8546350200518 | -615.3194478198695 | 0.0 | 0.0 | -0.0 |\n",
    "| AAACATTGAGCTAC-1 | 1352 | 0.037935957 | 4903.0 | B cells | 1838 | 7.516977224604321 | -74.253 |  | -274.4154552858986 | -425.13938623511416 | -584.6912336607829 | -594.6293800075192 | 0.0 | 0.0 | -0.0 |\n",
    "| AAACATTGATCAGC-1 | 1131 | 0.008897362 | 3147.0 | CD4 T cells | 1838 | 7.516977224604321 | 14.642954 | 2.7500205 | 1459.7248839897748 | 2207.40727811518 | 2908.333210674569 | 2803.6175781949623 | 0.0 | 0.0 | 0.0 |\n",
    "| AAACCGTGCTTCCG-1 | 960 | 0.017430846 | 2639.0 | CD14+ Monocytes | 1838 | 7.516977224604321 | 25.272524 | 3.2685237 | 780.8842828960819 | 1223.1575037163923 | 1638.7717176974238 | 1565.8289183288766 | 0.0 | 0.0 | 0.0 |\n",
    "| AAACCGTGTATGCG-1 | 522 | 0.012244898 | 980.0 | NK cells | 1838 | 7.516977224604321 | 6.548219 | 2.0213118 | 3784.372483863411 | 5127.23927008491 | 5156.42582645063 | 4886.076713670838 | 0.0 | 0.0 | 0.0 |"
   ]
  },
  {
   "cell_type": "markdown",
   "id": "3e66dc02",
   "metadata": {},
   "source": [
    "**Predicted API: scanpy.pp.normalize_total**\n",
    "\n",
    "The task is to normalize the data so that we can compare different cells fairly. We solved it by using a function that adjusts the total counts in each cell, making them equal, optionally excluding genes that are very highly expressed to avoid skewing the results."
   ]
  },
  {
   "cell_type": "code",
   "execution_count": null,
   "id": "b2e5764f",
   "metadata": {},
   "outputs": [],
   "source": [
    "from scanpy.pp import normalize_total\n",
    "result_3 = normalize_total(result_1, target_sum=1000000.0, layers='target_sum=1e6, max_fraction=0.05', inplace=True, copy=False)"
   ]
  },
  {
   "cell_type": "markdown",
   "id": "0d175d59",
   "metadata": {},
   "source": [
    "**Executed results [Fail]**\n",
    "\n",
    "ValueError: `layers` needs to be a list of strings or 'all', not 'target_sum=1e6, max_fraction=0.05'"
   ]
  },
  {
   "cell_type": "code",
   "execution_count": null,
   "id": "dfeccd9c",
   "metadata": {},
   "outputs": [],
   "source": [
    "result_3 = normalize_total(result_1, target_sum=1e6, max_fraction=0.05, inplace=True, copy=False)"
   ]
  },
  {
   "cell_type": "markdown",
   "id": "81ace85c",
   "metadata": {},
   "source": [
    "**Executed results [Success]**\n",
    "\n",
    "Executed successfully! No new variable obtained"
   ]
  },
  {
   "cell_type": "markdown",
   "id": "f34c9b55",
   "metadata": {},
   "source": [
    "**Predicted API: scanpy.tl.leiden**\n",
    "\n",
    "The task is to group similar cells into clusters using a clustering algorithm after processing the data. We solved it by using the Leiden algorithm through a specific function that analyzes the cell data and creates subgroups based on their similarities."
   ]
  },
  {
   "cell_type": "code",
   "execution_count": null,
   "id": "5fdfe457",
   "metadata": {},
   "outputs": [],
   "source": [
    "from scanpy.tl import leiden\n",
    "result_4 = leiden(result_1, key_added='louvain', copy=False)"
   ]
  },
  {
   "cell_type": "markdown",
   "id": "573f69b1",
   "metadata": {},
   "source": [
    "**Executed results [Success]**\n",
    "\n",
    "We obtain a new variable result_1: AnnData object with n_obs × n_vars = 2638 × 1838\n",
    "    obs: 'n_genes', 'percent_mito', 'n_counts', 'louvain', 'n_genes_by_counts', 'log1p_n_genes_by_counts', 'total_counts', 'log1p_total_counts', 'pct_counts_in_top_50_genes', 'pct_counts_in_top_100_genes', 'pct_counts_in_top_200_genes', 'pct_counts_in_top_500_genes', 'total_counts_mito', 'log1p_total_counts_mito', 'pct_counts_mito'\n",
    "    var: 'n_cells', 'mito', 'n_cells_by_counts', 'mean_counts', 'log1p_mean_counts', 'pct_dropout_by_counts', 'total_counts', 'log1p_total_counts'\n",
    "    uns: 'draw_graph', 'louvain', 'louvain_colors', 'neighbors', 'pca', 'rank_genes_groups'\n",
    "    obsm: 'X_pca', 'X_tsne', 'X_umap', 'X_draw_graph_fr'\n",
    "    varm: 'PCs'\n",
    "    obsp: 'distances', 'connectivities'"
   ]
  },
  {
   "cell_type": "markdown",
   "id": "adf77b68",
   "metadata": {},
   "source": [
    "**Executed results [Success]**\n",
    "\n",
    "We visualize the first 5 rows of the table data"
   ]
  },
  {
   "cell_type": "markdown",
   "id": "1282c9c9",
   "metadata": {},
   "source": [
    "| index | n_genes | percent_mito | n_counts | louvain | n_genes_by_counts | log1p_n_genes_by_counts | total_counts | log1p_total_counts | pct_counts_in_top_50_genes | pct_counts_in_top_100_genes | pct_counts_in_top_200_genes | pct_counts_in_top_500_genes | total_counts_mito | log1p_total_counts_mito | pct_counts_mito |\n",
    "|--|--|--|--|--|--|--|--|--|--|--|--|--|--|--|--|\n",
    "| AAACATACAACCAC-1 | 781 | 0.030177759 | 2419.0 | 0 | 1838 | 7.516977224604321 | -54.403603 |  | -394.0494943827394 | -591.2966152833859 | -652.8546350200518 | -615.3194478198695 | 0.0 | 0.0 | -0.0 |\n",
    "| AAACATTGAGCTAC-1 | 1352 | 0.037935957 | 4903.0 | 2 | 1838 | 7.516977224604321 | -74.253 |  | -274.4154552858986 | -425.13938623511416 | -584.6912336607829 | -594.6293800075192 | 0.0 | 0.0 | -0.0 |\n",
    "| AAACATTGATCAGC-1 | 1131 | 0.008897362 | 3147.0 | 0 | 1838 | 7.516977224604321 | 14.642954 | 2.7500205 | 1459.7248839897748 | 2207.40727811518 | 2908.333210674569 | 2803.6175781949623 | 0.0 | 0.0 | 0.0 |\n",
    "| AAACCGTGCTTCCG-1 | 960 | 0.017430846 | 2639.0 | 1 | 1838 | 7.516977224604321 | 25.272524 | 3.2685237 | 780.8842828960819 | 1223.1575037163923 | 1638.7717176974238 | 1565.8289183288766 | 0.0 | 0.0 | 0.0 |\n",
    "| AAACCGTGTATGCG-1 | 522 | 0.012244898 | 980.0 | 4 | 1838 | 7.516977224604321 | 6.548219 | 2.0213118 | 3784.372483863411 | 5127.23927008491 | 5156.42582645063 | 4886.076713670838 | 0.0 | 0.0 | 0.0 |"
   ]
  },
  {
   "cell_type": "markdown",
   "id": "a4090c21",
   "metadata": {},
   "source": [
    "**Predicted API: scanpy.pl.draw_graph**\n",
    "\n",
    "The task is to create a scatter plot that visualizes different clusters in the data. We solved it by using the `scanpy.pl.draw_graph` function, which allows us to specify colors for annotations and plot styles to effectively represent the clusters."
   ]
  },
  {
   "cell_type": "code",
   "execution_count": null,
   "id": "17c18008",
   "metadata": {},
   "outputs": [],
   "source": [
    "from scanpy.pl import draw_graph\n",
    "result_5 = draw_graph(result_1, color='louvain', show=True)"
   ]
  },
  {
   "cell_type": "markdown",
   "id": "5cd231cd",
   "metadata": {},
   "source": [
    "**Executed results [Success]**\n",
    "\n",
    "Executed successfully! No new variable obtained"
   ]
  },
  {
   "cell_type": "markdown",
   "id": "d95c32f5",
   "metadata": {},
   "source": [
    "**Executed results [Success]**\n",
    "\n",
    "We visualize the obtained figure. Try to zoom in or out the figure."
   ]
  },
  {
   "cell_type": "markdown",
   "id": "0a34df33",
   "metadata": {},
   "source": [
    "![Image](data:image/png;base64,UklGRhY/AABXRUJQVlA4IAo/AAAQ8gCdASpYAq0BPm00lUikIqIhJHcZ0IANiWNu/Gf5i8uebaipRacP9L/Ze8Gyb5j+vfup/hPeGsn+Y/uPmo6WexPLq8v/Zv+9/gPyx+XP+V9SH6Z/6f+D/f/6Av1n/YX2+/9H9gPc1/cv+V/2vYH/Q/9V+6nuof7T9vvdB/Yv99+UnyCf1T/P//f2nP/T7DH7rf//3AP3D///s1/9T9yPg3/tv/F/bP/vfIX+1n/79gD/+e2D/AP/z1r/UP+t/kT36/23+0ftB/ZvTf8W+b/tH90/aj+8e4Hjv82/qvND+LfYD7//b/3Q/wvuB/ovAn8q/n/999rnyC/jf8n/wX93/JP4DPkuxi0n/h+gF6v/O/+T/iv3v80b+49CPzn/G/9P3AP5X/af+J6t/83wKfwP/I+mb7AP6F/g//B/sfyJ+k/+x/9v+1/MX2lfpH+v/+f+4+Ab+df3L/rf4/8m/nt9f/7u////z/C5+1X//IJmZmZmZmZhse2pe2/5FupGbnasoQ5aoCkJOybl0zMzMzMuI/I2WMy+jxmX0eMy+EPmjpnE8U+YB7P3C9yzYHPjVrmFoMgrO+jxmX0eMy+jxYGi6yf2a1OI2c5znOc5zm5CEIQhs5znFoGHxw8W4kfnZmYiGf2nQRERERERERERAW506HnEUuT1Idx0qo2xgWznpVyqSwl0zMzMzMzMzMzMy5llvxdtnuAQ/lvoDb2WCTP2m2eyTswxA2wYoo9fewzMzMzMzMzMzMzMvY/85RsEHnFKxjTtio5qydLAcHEPrcQS89KX9P9HbmIh+9hmZmZmZmZmZmZmZcXw8h/UmiaWOx/7vu319wGseFc/YDkpkrfd/nJUqHce/mijkQ9VcX6yBmZmZmZmZmYTiNr0I+s295uab7ZDexfngFqUJnrZcpPebCTc14YcRIJadAaDkREREREREREREQ8H9gEywQVJtaVHyc3+jVVucVMUj2VnUQe6pCnGjIiUTt4+Yp8YjxNSE/auEmhUSqqqqqqqqqqqqqoqPLnyBoLGjLqIl1AirukCaFICJ1uL2nF1JW3p9A1cc8Tjx5+GK3OtFJLHS9xPy9kvkrFoDtvLbbu7u7u7u7u7u7u3GCpiaOa3C+THowG1hj4BWZsEFyEN/BHmWFZcl+w1caZ3WFQEd1r54GjkgUw5Y/gCfn+62/1iS2xBKBmZmZmZmZmZmYCxBGWczFvxBIX1BSWtmJtPWwOCHtLJaOcvOVCLoeJA90janNNdSWZ7yL/zvrehrIGZmZmZmZmD5cglAbC+VyFD4Qbya/Jd4r4wneq7XEg2Fv1hHC690kN6ULGOPMiNbaUopnEgOP+AqzxrY6TH47cetykDtMVl3d3d3c+pLMxEv/Hzik7ZFylYBC84DrB3CzN+QWu89Viuq6UhpaTz3KieTmFo66etWC4qwsEp3z1qm/Lur1YDnEuQGMBmeLSD8xvJEg0xKCHMBZz1qdgYshn6bwmMANVyI23SvMBN9OulqDNlUtrb9ZQpJAZ7eKuK1xoRPyrTKa9w2JVrfITqey3OM5TQhsDEFHrn4cddEdc6O68/tVJEE1JRVQTqyOm50tqfYlGiJTOsJuS08mvdw+WDPBKR6/UqZM4MB0j6Qf5uNsDYeTGemM06YMOzHtz3dlePVbtg1TJujWHWhERBUU+zurQy3m/kMTw9Rv2fFUgqG2of2im12d4W39qkwBCr2JvGWskJIoW1o+dgVfXxF4LcQKpaeJxiV4WNXd3PeQhhJxF/rK9imDuOLZPT8sZdIyY5b+5d4weRo7PvAmTWhpmbFA+6a2S6Wvu+goRFw6QsmXrlMerfU9artHeIWDUDIah/R7k+i0OuUvL+L2eh6PTKJ+KIrBx+pp3cdn03sp8H6jxZ62Yv6E5MHm6Hj9hk9iRuv5FtvtXrvSvLDNz9JiIZ1IvZJZvRpSev902+y3b4BDkI8zK0WQtk998ImtXybtDWMgYZM6rWDB3w3jMyrQYrE+VqHLNa/AM6acH/660gMW/dI0oG//5JMlRZ2XkQHHafKVuuxpkF2FgJIIYnlm4wo8pRWMtHaDIi//2KUzke/zjUiQwaQ2CCOGq+RvGMuskKb8eQCZu44LkCeL3esuoilNo2u6/7WOnLhcTmR3o6QI6Qv+wu4XlZnL5qG5OIhn930QWmkUhxAwQLKCU7AhfHWhZQq4C4FieYAS+fKzvrSFtGDVHmFB2oipLOuQMRDP7ToIiKQERERH8SzyhH8DLFLa6c0zCC5H6MYlHb97P6ZeC7qIP0Vpm5bqy6CINByIiIiIiIiIiId8ZmWATjRnKUJRrSlpM6reFEv9f4BDrA2PjZAJykVyLluDJD0ks65AxEM/tOgiIiIiIiIiIBgqCmWRpRStBXIP5jxweWEnuKPoVJ6uyanLqqqqqqqqqqqqqqeNb5YGqcUK54iut47MDAGil9NhEewzL/Kbre973ve973ve973ve97lTtyC0FdwoNVRiCV2TScvkamW/uTIpFYLPB+dNqt/cmRSKwWeD86b52Azve+dtT6MowW2jxmX0d6H37xdWjcgbMzMzMzMzMzMyoZc4aTy5uXTMzMzMzMy0AAP79dARL57RHTt0/jrK4QzcdsF+Iein3Sn42+hLcOLj+u5NwAw/O1PYo46MQRUTFN+VTX9HcmAl0/9x64pv7lDVMm0UEDPEE9rc9qNy3ogKH8is5jhj9g1Q6T7HlGGDiJ25R2NpLyTqh4VOCEIRD9/8O58GjCtH/CG3J/iadmYVUzSxyP7MO9DzhdCeH/q+AUBPw/5ce/aT04UtD91Q9TbWVfiRC39/EYn/kXqBqB6lBE09blhZ8W/yruW6gUUjC4GAHUk1WSo8sZfhpX73Fc0v7uzU9L5zQ5qVeVENlNHkYl5amY2JTQn4ij0XlDQOcYas7YQwuiEBqh1Mx8sEYKr21OvqOOR1p3A7F+CzgHwUuyA9o/geQaBKbAKcBXfpKMHiVIisPRZbdovDenuHpXh/KEisyjn/qRUaoXib0HABmJ85+yTrzQFEb8/v9f8Px1tcGV6Tdunrr1s8VS5yt9kuW6qyTviOl8s+DwyOCed3ib0BhQaBst+h7uDDZooszmI33cU6E1c7Fei5XhMEcewQNTC9IPjhS9nBudXLDiergBYa6RW0D/28nFAs/13Pu1DPdCczAISRpPy9206mA323p2fYLQYJonWE+gSj4VzKAAAP4AeJw4bOhSjt7B2XLev0O9HbUliAsWORybgcdJsDLt80OUwtxxGV4SId+EHTfOfSniTDF+qXubCX0VFMi3hte+UGhU+Zmb4tuHRIJ68HcVNYS/A1c79/GKc+Tv9q9RJfx18TLUAZmDpmvAskLHPsHV621WOD7ZmBkGPO9ohFVJDsL3ojpzu8yO3wQTG+tFtMs8pOSOePSNFSRQ4r9qg4tB0l3fMXkPuxjTh4Oww/RXgxMq43dh3v828YAA34slQTY16CXag/yKaPRuaErqpHn8T582cSjDPUmG+Iwn/K99EDrtli6/o/eKNCwZ9y9o5iKwZKo8MlUz6aAZNOezbl9HAsKXouu8Ie5hJgZi9sASnQTrkFV62MAAalIkc2mELZxDoOwonLPjeMWWlOCsePyXuIZhc1yqBiF25F7SjqSKH6+4F8bUjL2KEl8uexfH09foZLeQy9zCqZoiMCpfLymnieqDBnsGmf+nkGncCtpiq4MhGQJizROPuvkWUNy4YZ2B4zS3VP6iYnSvgaEYolL5VQjuZ0ukGV24OTs9SPU/g8HZavu4t6sePBkXSBOPgFEjTgYqE1oU7sJBB+jnAVniFDpLmTb+sSCFS7AcCI9UbCvCKMvEcqvwcwH+1F+DkMQAANXxF0T9BgyX1fNByrNcg+2JOej0PiGwu5Qy4xL1FbbYPSWQAKsawUXRNxWuT6EboOUkUN+EkwB4ohovnhChACP4xYZZdswlEJjVvMpVGRK3x8hTLe4rfiODKHmxvNWVEqMgs0V+QygZWiZ10pgIe7XScLU/vu6hWhu4qKfCBbEOnw8Cq6tvRBQMI4Q33ZibkojpX0kwbixqm4PSFKC7HLheq7a6hfMn5A6Y/r/A4xsy5nvKtuuUiSd3v8ZwEgpjll8obhRoXwoLd92QNnQrwOikCEWPN04DoQLN1DP8UmDZSYX+xNSRBWacXly0oP81l5eqNPtQVQ5j8jaA7tusqyvqzKVOt7jf30KU34vHAwJmnd4yCS4BkxRuNZS1fQ9n8NHq/rM74Iie8WEEBPrZ4Fouk3e9JaetkLEFe4LXf/aJgJbV9eVrs7G69PdfPpu9dgmwAct5HFLAxTnT1dQNOWxy2BIWmj1YA9PqCnwHnxhxxTO7N0o/ceJxvbD/ovlK/YT7oz3aU2reWoeEhhKIijQZnUM0m5sAb5Wu5MsgUJbMkvkYne0CROA4vCZ8faIfVxQ7+lEw0GPCFe6AU/pgaLg+SjHJziU8GanW1wu9kffw4ONpbd3eo75YkkxLDNbb0DmdNWVO0WgFMjKfv4QNb2v2oFoKs93iyGctC6sYdQ2GgqgxOZ2ZWsSx+Wvy6HK/eDrohVP1w0YfgroWFnFxTj1/I2Bo2vvK4qMGKgup7ysq/E5UySOd6XkWuPDvHS1qaZ66YTUSfg2eQQ2BZgrfWff036Y/8koahX7yEtxwHlAe9HyJiHXLz76PpSxm6I9AinhWFZpimMgJXJk5ohDQjjNPPGiZKSq5+SH7T9jKACpmzl/pclVtsnviezxP+KTWxt8UptXg0zN6kwGFMpG5OPLUD5/mEjnwInAl1j8/BIBLVal8UdeC1vaC1WUOFNLIclVizgrrwZJQmpW/bD73oMw9Ju/D1pli9JDMx/SsUXaoxe4FmYQUn/K4PrzdAePh6/e6DsNQALUn0c714IvAcvKbz5grIHsEc/3YZhdD0SkgKTH060fLD4UYwogSxGRnAP7pm4QYiQzgvt9beDXFYIkoXs0LKw23bi/7gnfrM7jNn9y8OY3L94pn+hnxdIzJ4B15ldmBQ7KGD0K9234eS8eSG6YB09ikH3fb7034UgLeqX0kLzstvcYfyanuGAivXJZx+ZUD14vguA4z8ToW9c5cqt0KUm5BdQJrJaKkAMb++tUWagoXWThSCN5yfcP4T7GxUWXYwofQNUjZo7kOH66dLJeAVPw/KYQxWrukS7V8NXojJdQDUK78IJC3CR1C6r79DGiOvMlcD6A20gZYa05pPM/4dO73f6OdXlNJu7enAvjl+bCUo3E7VSVUWzYU3KB8iJoU/V8UzmUAP6obPLXVv417m5Cy8Gfo2yUu9rHKWjG7Nmnj+wM6GAfEuqNSTTCODnyp/KfSBgg23xXEEGmCuZhBisFkQ6wooroXK5+0r95CQ97UxcCFu9vr30V94p067dkRAxZBtbxft3lUuvIRtlRO5KZ4wYBl3ePMU2dzlLyQMXi6e10h0HDBhZPNBBvoxlqjvwPQ65024Bx21kqKdJc+ryVm+3yvNlfkeuEQ/5pqL27E0ISZMpyot+mhoA9QdmzCmKUCE2Bvor1J/LVP75sECEEwABC+qG84OR1VTH5ldmPGAZF5ckzJd9CAGnoiGW4XnG0oXvMFUBYpgGIINavpTGPQM+yib46fKDwCebZz9YvvbsOZqb5vvjRwNoc0X+v2u5TuCoUG9cbMI7gFMgSVSdqKOzC+LQ4Pk693/lzdNW84wXKunPycVyi/MRDGDgc1huzh6SKek4o8q5+Ny/UHVXng1pQDhVZu5H7XDkMg2cbQMUeL92IMo0iGYn1aBHewSxNxyQxP+UliGFBfOnQAjeyj+aBhSsDXsiKHSh8SXYeBHIwRMGZiSi7S8rem4evsbBoVFrllXB8VXVhpE+Grw15hsVb6CsRusv1NtFCSnyETSximB1szfS+Pqol1ZJlZPz9N4TswAdl9Y58sLw/YCJ10Vwl4DNRdpSLrZw45OWj62LN+RLdHFvG3Esel9vqkH0VGXbyp38mJMhaTdQfnFfnDfGjwyOZeaYZfNcRZPskR8f4fjYlc5H555oga3HIFxqrLM83Jopr5L5R7RBoVSeJdawX6iUk83o6YMNRExo3wsgUIWjoKZsnnOZ5iyjXzjsM7BS4tgvKnpucDoMeXpBx74qBHfFk4po6ewMWx93vSaoTOJG9bbuSa4y4HKFUhs8mOe1AD4TNrOFfJ2iLLiRTrLt1ox4NCiJu1zoAwba6iziOI811ndkQ2CyVA1sRXNtfI3HTPaeVGmVh/LQm7paa1DYjvDZ9bnFI3G7qxSAF+PeEIziTUvh1/eAbwDE1fRxzR5mtaHonwSV9E16jejZ7BV5Z0vPzup2P53QeBu61ccFdL1MJ0AJ6/uLIOj60ip9Y+JEnIbfn2eZJJAMtU18NQsV3oLaixRCDONPxvY1l1BNMjKNf/soUD66cCruYn1Ww9N2Ou92fV3SZdKTAdRdopKkvZUHbHszaWPi04kqKKGR070u2qQl8+iP1PDL4+9ofLQCGMYwCCDZqtEZ4PGaIwAPIEryx0K9gmCYstKJkVzqSGJl0Wei/wbWlC89d7abwD895HySOuKSfh07jsZpA7+nTNVasMFgsSyVnnO9dx5GEwSlj2+LwrD+aOqyLKR8jlmPTIiv0qBnAMs7/hIgW1D3EoyUeDPU192rYY6q20o3MZIRBejNd0g0xdWMr+WWUG2l/2aaMkvX59YjnrR41Zg9L1IFMwJh9X3AI4OYqhahNqk8NWwW7/o3rYWeJOyCEqoCmq5wTtorPcvwJvFqRUcUkGKMpZ+fTVIl8kP26pP3aXBHRkzp50Ng8JEDO6tKYHP0DlNmZbVgh0J4D8F/0dc1IqI7JNNSkFq2ifaSzFgZ3BDaoK/jzXL0TFFW4Bz03ggdQYF2+Bf9GWibNosuuiyW1sRzTWSrK0KxD7N0Zo8AtS8u+gIVWIWvXZeI7YY54iRTiw15wxenOXD0a2ANlcAeN407KoyxefnYQfM9I++f2Gg/YrhljO0TD6rrZCDDWtpBh740cvo29mdAK462c7VMv7Avfuwktw3tp/aKwi/rzyOeJLTwe9Xoq7JqJAyDZSNc+caXQP7hG1bJFw6bUjBvvB2sEtGZVW8gyxpxpb/+OT91f6YIQ1Bdim/yvWr56b+VT+3M3nisveLR4TjDxjO+npROIRNiY/f1n5MZn3PmXiDXY8Bhyiry/m72MxDMcJ7C1rlwEpIkWHVi12+FhzKZwkYUtlg0E1hrSn3Xw10Cxkm6lEgIHKcY6IHtpLhjr9IEj85p18XdKJpN1nEXehL/1Xqkbye3b5eAakk1u/+IDim5VPIyh4HEZ85c7CwSXhiqxWIqAliADt63DIZROVeJsFEDk8BYRAyT4v46+T03SzUlnLgTgh9KVhjIWIV0m3a2aKQszA1Hz4PrdA42G7dA7OklgQxW3tJ8Vgo9dbcV8robsMo0fs/nYYg1nT2JI3BLZfh/Kch0lqgDTJ4nMfGqS6TeidaZzQ8VBk0QH03buCcKYgTu2KtVnG52eSK78LAUbSdTxLEmTtqksKTQcmX8gMOmwyAM7/q3Jxh8ysp7SCrUZM92eqaMPvjwTroZ4hE2KUR76CuQiDIoxau8kHXIqVzuZKMxBIPO1R85vW/7jnSTXj4yJSfvkYolt8cW3/4Zk98qSi43pSy1wBu86HZQMdkOkJWiCbBPRI3dwkbPEkkhs/J2Ox6smiC2CY/sCAP559Zxt7/wj9xSP8Vj2No1bqDkPinTmtc9hcOjz81tXrZubsuJtCtE8Jhk2tUbbSAou8yWIoQ12+YnHLcn8PsIBeYNh621Ht4MqwO8QxxUNVZqQbXulXghGPrcW17Skh1aQeJPZwhUnwXsvB3po+LSyF5YDM5etvdFZ2p0HtGqt5JtM2PwMBVl4Q1tAzIj0NN05zbTlOKQ3Yf3UDHHqxrGLuDPjRkWRwpiOC/QyKcsDr+w+0cjOFpZaMDlh9ZkvuIhUv9CkisrF7yWJBKEVV/dDu1mX2gcnUs2L54tW+ekr5o16fRUIraHF+nmieS4ViuNhiCsVAqyi4nbQseVktdWjZZ2jTnooIJh4LI3cPhxG//r5zs4rOiBWQdL2T8eg0ZVWTduF80vJrTiRfbV33HBxKJI1swV5zJJvUSLxSnTxrl9U006GpG6sHW99bdGqnraD3Ivyl1TId7gsO2oUIUwWwUQt4uRzzab5MD5j1CFjab1dnBneL3HXG/y+vXfIcPmKWgiylRozcrNjddC1GvR2w7bsU/a+C3onvV0yYNHd22RypQVd0JqH/8OsjUBkwZuNQ8PvNVMpiZAu0rFUdSsKJ2d1fHds47FhWxjAX7uL2/ZDRQyVx2CRi6jfMvltyvE3/Rugb7H3zmJFDmnCS+gHn+Vd3ZSVxhVUUMZtkJBCzSRXM9Sf/HbAoQ3pnkJKiYaOFyM5pOEg3mMINbwkPlzJS+r0+VgtxWW44LbjH+P0sB59j68hVr3lCV98wVNbBxOMIAYL+g47l9yY1qMZmrilkbEFUbKw+ayKMTeBGPjzG6MiI5aPNNk2n5QO3GmvJdpMgZNZER9IUp0YNBVVIHOuwk0Lg7u5Jn0iTRxlWP1hFvmF46DEnL45V5cBHW/O1s6GNMoNYN67IsY9PcCkzLjEZzbnKlDNxUgAGvjZKy1MKB0KX64jfBEkcJkLIYGiuD3k+gG+lMpwSyrW07JRWqMdThl4NrmMpqZBAIjvetz4/H47qTsaa5k/JVD/DaUxQydC6VyQUrbH4lWIHG8otNa4yt+vjwO88Eg9YlFj1t61cvAWLGmqDiiR7KdWunF+oWT78R9b1Ym6Asotf/ZiyxLSpWqZBEJE1z4t8h+QV1agLfWpnFP7WhE9G4O6Y7z9TfCYFKoUmXqfDsDNH2+bcqH7fXDPMDr84jD8SuOCsmInr/5jPjKaH2MwV7tlb7ZReLbAOqr5LD3Tkqi0WsEBSqlnw3iA785MRC59OZ09TZNz6i7dGEnbUNH74nLIAcOn0dZoO20ILcdxomGRNSwkAQXKp++gieL7SasGVt1bEtBFxldydsvf4qwm8OOWfNJiaZ1LQhKUNjLDZoLUAt07+UBNTZ/FjIG6tTdxT08vXqQrJmiSxElqQJzB77QZ6F9ojVGCBu0f9C6ZDVvFFHkYxgXTwuacdfOjpX9Yuas5Q48d6oZG4hzu3FeRNRXd5n565MxMFhLOMWFxP+O39aatbvnoq04OP8ojJiHkkqZRA8KUQpOYHaD+A1n3Yj2m5HOHzPxF0KAbQ5j78q0nHaSZXJ0CsVYejR+igyiOnTzoJixCAzNrb5wGU+olNfeJXOjN3pP/YF3+flFTvE2Veuxx7iXJHfenIc9wt8W6lXGNkQgPySl13wTmNdAvghxTamS+4yKSWEDJQaepn3Zx1m2ILHhtQ4+HIJXLMzVhn6IVbGY0eU+zGHguiaE9t4skFw3Esj9Su4veVQnyQ4AKr/9WZ6cgyTtYAIRtWOGqpE4n+hjWCAAjRwyJo6wVsJ/dr17xtgjm3Z+AjPLRgEpRfA3Fu+YRKs4wAxfqE0899CWfQeWPVcPu3MHIZM/4jSVm5vqhGP87+kK6Zcvh4N50arwF2rMdroEczBW+xmOfCLy6Oed5lHyUz13pMA6Hk/cfVuHbDhRDkAyvMF22whceC+Rh+3EVKS4sNHjFC9qKIS9M0ae4rI0LDHhhlG6Z/psSOetfrmY+oPyPNxoQg8ZxdGQZZYD/uyhTM3imU58pLujvHIL49wW6MlLxx1TkN1hwXMvwxMHhyGAPSYNPkF47jRMMlDXtxtylhfZLS2+1p0Z2yv/bhm7Gbaf0rfXVS0ADg+QIkkVYsJVqPwoZKKhm2Qitsjcc4JuWann18JjBi1T9yURmrvU/rl4fVFw/VdSP3iCe+ZDDknwXFsDm2lUmu8/HZsy9ccImvTFp79LK9hr0fLSMgbRxHKAtXn4ad9QcckdCscmXboO4aaT0f4YNpCkkVL26wISKl/LsM0cIGMBY1hbw2Dx+9mv74coT3dcUTROmgoOOqbFSERgPk1YA6kCC78Kg5QxZNj++XK1R3TB69xCKghV6N4a/uwQd17K10fPy7V/1ApULbXT32EL2lRjSFOasQpi76l6puB+YhuuU9seB+fmMQ8+BM0e/sZRdOiZgJn6ZUbz4K/8h+61EXHvxnKLZAhkP6zeA8e0fIEwpp0TdU284hna//AKjcVKnfZSFdCkLcuVASIY0m9uOEtJU7mALgwaxWNr+H5tWPNB2jwoUbOpVYJlQaokzO9yGj3YsoqxEccxmDNoG6npyJy7YzakXvipkkEJ6Qu34afP2SRvLdv4wlSP+Vojpjz/GzvpFjYjUJJi3Nfupsu60/FEFjnpkjbUfcNvmZsGNhdlGAFBB9XfgJwap87BkZRx4FbFN63SKbdXRkQlUGbp9uDMiZhaC/y9nuBLBWyFYlgTuzIx6EhveN1lCA+VDcnm/Ik+N1TXThYVY8EuYl4dpy1639ieCQ4WPLh96PYQKoBjDdfgjUF6869q4GG7X7qHS3eGc/R0WwCLZayalriFKRDQuHxBrBOI0ibauagz5fEX1SE1OWl98Bd/DWDaoVw+z9+iwmsvO1Gaf6CKVKG5DC76z0ocm72xl/l2Zl37ksewyatrwukL5+Lhqi2/o0WClxEbpsyq2zQu2MIrLCBW3IOmTjaxfRRdbKucBioY5885h0gz7lKul2DpAPeVO7x4mpvtlYHsFNLZIoBb8LPqpBhcON9Ivs4gIM4SbqFZEgBAwm69LvQ9Roi63EW7YgE+R1vu03+AwY90OL1yLhttmWKxyRkAWkwJ9Q0d4zcH1XEUdcsK/ihJeWDBJIsKUSNag0flzjyG6XoLKxNZplscpU6S3JJ0Dfe4DYa5Qb4MXIcqysAUGexJalYV4gIPtDLwOoqB7umEH/Dc7NMinnqnPH7g7BDw9uufKGrg3VsxVwcY/EoTMxoUdm1LHXSEKWwspb+2Put29M6LVSZRqUuiRCuFKXc8z5GAEyAupiQstn/CNDDxSKJrDEu9xZGuConmUKW7bonGvMkodzDcNM1EZhV/q0GuCR7FCVleY853Ix49iOLoWjFUike1kGgYwqoD0glH+q7Sswy72XZ9sgx2sa+ob04FkdLS9h0tRuuBHwrZUYlmsoRgmzaN+N5afqfNIfz2m5Nk18+mFjG8ykbvjJ8gFCCsy/jH5yNZBVJgDNldmLHhNUy6IDFHI+X7w7r7A56M6zi5BN6CRVn3QK2UAYKrYQp/Pf2NCan3Q1HRW8Edf5h2NKXpfkaw8zu6bQ/z83/kThnS949cRfNxcyXVzdlczk71kAO4AMFGF2IHY3W/Z3GQXaX/GnMWhNMiLOtD6tHDkH4+JwKRPljB217/GJibhJS/c3olngnjEnMpv+N099Mm3UvSzOCH8Ginglt3SgNeZmfhRQ/JSvuPfT+r17eDYlze3WC4VknXcwfKCCzznzQESakMuhc5YGelDy7qXqN9ExcwAv9Bcv67ikEMDhznLvsTS6SXQ2bm7eao4pU5z0IwztYVZ/9s2Bvloflgj0j2kx+2cR+xsIHJ8jMZ888gI0xRM+4VsMkFqdRdlaSZN+rNFG14W4wz00pxOaChbBDyAdnJ3xqcBfIneH/enge728xjTr8JYJVWrLPngqiiz7Kr6V/IX0VvvfuWccsfM+tGQa/dATCiGEeXqhIQJm7NS4YCscfJdWqHi7ObZT6h609f+yPKxd2ktSmvMm6NKi20ll5O8i4MlkPMhG5Eh6XO6ZGlvzEX9Oi+nYfUYv/u6QrsVXRuPRe/oztKhR7b2T1LJwWKpjTN2jXZ7b262U1cqey9ArXvx6a3hcOYab9b/XKTBodZaQ0/GrFpIV6Hufse+zf6LixHSjx9VssXayb0ZvtAS06yzBEv+eeGSjQHrFj/4yNIGGJF3haACYsI0faEliT0XCsTqpDYirEqosaC+uvTbOvb2tF0xtJJFSAtt4genrDN+TjMt9/KVJ9kSgRnCZ4hKvT4ic/RaBl6A0iARWiqhQj1TykyizXiSmOm3i/QZt889hK9nwkBQWDQvs1BArxuuDNdn09F+fv1DPcofnnJjcaBKKJWziA1TzhJb9Tx7PplHQq2nCktVTFjC6CtsiWY/OgExZw/cH0vEOP3Mea+E6PE9x+q2g4rNOMy1FQMKspkm4qTsn7iw+FN2R99f/WJUHmREj7b+NLDKVLh6Qek6Vw0NILlEU8zBhz0OJ3vJG2jOKk90v3xf9pmGLdWmrvaQK+YwAagol7JPwUTlymXw1QOONeS5+KQth64j7JwA9xyidpOWxEVlojNukm+titGbxqOM/rZB7XG6PVUsxT//Umbuw2UAXuLZdNjELqo93qXVs5SGOAnhNqrXGC3itkIuplEMfnCOr26FLrLBcPZAEPsSTexJwRZGUhHFS9J6TL10S4jUD9vVtCMQJMRmNLLj8jlJfmyybmvAJ5OckzonY/z4D8ZVEoKfzqrUR+iFb+RO/g6oHuv/Gc4A4WYCRloDsu5AUT+kOHU2l1Ej3WAR8FYxWGq1aNr2Cycn1amDW/irf/AkjsEDPinwz+YVterxm9eDvEkgCLMu30Hbzai0R5wT0bFNcCnKFOv7jIVydcBeCyEplImPxPgzbOOEssuwyHLEkPnpwJ1awQ7z4h5/tauZaJtRuQEAAqPurdPuO0x+w5Xm9eadix9mSJG1X2/TVd8T8ATOaGuX8YLLKl8peLK4UEVe0hyuVlINBi7FKiLsMPTxqH1tghL9kvJG5rAPjEIdeYzPpk8nRx9jkjduzQht1jhzyeJ9jk9v9EbLP7yD/gyBD1prkJZ6tQXeplyYBtYb3A0jyzwu+V6WMzepGpK8KCi7gKEvaZgEZti2vqhidwDiAKYRZsQnhkJHdFxuUhlCkm3MaAMXyvo3LOuGrYuh97JBj2ACuZZvHw5VBWVRMramY7L9aDENbQjKrkC1aQvfhxZGhunam8Ip2XYVBA7ARVLluID7+UedJfKS3vpnCL+/+LH4+KDugUprRrb8koYLCcatb0KMRqT7DuXBfIs1hKNNfAWxXD82jGcmJe0R+DPE1IQJKANruMr8/VVbvyqSxH72DRam1jNbdlykMCrtkl2msM0p3JzXNNI99Af7F8MPqsgSkPf1Q6G+vh2E0Ssq1XblRjyjITcxNmDMpfGuqGWkbZwZL22Erg94/6c0YDKFkQzjcMcTL5eVcMg8PAQFDc/BQ3898r8MlIgPy3yULFSW0ngPNu2BjUxoeHh22EgCmMC13lEkAqGfklYORBbe1nIVd6AUFyA8l+VFQdJ+pZzVN5IP2vzMUUyFhprvlBEIAWUOexbmer1mo1sXjkEhPj7Ritks44NRqBivBLMDM5Hl9ggHp8llSrY1ONhTRHPfmnOns1fj60Ag1lobx1OcnltMf4w5AIlST7BnLx4Ln3VEmsvhYM+wkJNdkfj1CjzjJpnMCuuS+YZ3jvPH2zep8m2d6NbLvif/Xt4zcyj6SWAlR1TvPpfy15SBx9ilcFWMBlUg1cHJZcSrOLOd7BlykculysyYwEweVYN18RtyWhyRYp3PzauIk9KJ8WWzmjN1RfD9Q3OMNIhRO/od9ojzUkobS2QUC6h/U2uV+Sd3Uhgrv6m47RjZPWIyj5SJVLvtIW2lk5ODcJIUvbebGdstHgW5cHZ2jOPNwRi4MNOkv4vWDAWorlbxU6w3GvR3dNjBHpS9YC9EgllGgdURn9NP8PlxBeb4qiSey1ahnAfyv2ULLibc8Gsz+Ld/P2cF0Vd145yWmFWBEAIa+89FsQmz/89QxwwTrQmfujl9Fd4ABp2nEyTkakPZBJu7CFX9kMEM6DhMHrHwMsgL+kOY4u8/MaPzqll6J8fiNvH9PXpOZZuwLOWW3QqBz7mNHL2EKjUK8QRO4Ot2PAw+axJzx87K6ke6h1smKXj66yDGSqD+CfFCxy76lF461C77UBp0Y1NBJm/4MSir7nlRzPB+V76bFpuWBF6lJV9j1Gu6Zj4MS9d3h4Z07yIeGcDojRzN4FPRuqq6qseSeBtbN5Oh23JE/6xTVuUyS76QaK9p7+rAbuWRMbTwUJjTeNPR84FI4YLSOQH7neTxPOhj2dO2kifU/4Kalz/eOW3XbdY3/1hbSzk06zEZ0S5vZVr3yKWT/HccBp9K1fB+o+w/jx8b5CuUwzXC3XQy/4mGs8SGa6a9W0d+cdgFKSJAuSbdAp7XIQShCQAuA6at6/qm94BIo+5yjsxnIKyY7FOEnxyg48jXp85JqVkdHON2efKqqDVUkI/7h3PFDcfhgsN+5MQ1a2ghpbEJVj5Mf3JzMlP8cEkULkQcxOsYnfABPLVdP6tBeqlp2vX1FS4nXzCTF/4yni0talUmf33pCBt2MK1opV4/w5WW5DVDEwI9uIUWxNRFCL6z7KGds6yj9UYSDkjr6v1U/Id9jHqfAJWsAtKiOs3oYAFneAm/0kAAaDKH1rXl0KxAUAXEJPXMJAu/bNXytpGmGhyXaYBC8CJiHnKf/KuOVs+oIhWRmSZ3hIN5EqmQscr88w37fEdXTplZmAay0LJkpTjKtDWvIE9znxuYvUszMEiE+5w86LeycDdrDP2FSrJ2x+LEFLqYhnxSKtdKDBBUFazlFqWzBjwj6NoMl/URqScf8BLk+MCTbEmtYmwdjaFvMJ69dyKmPizel/6/pdD+CleMjbJVfWH2mdxD2ZCrUubkrmlWcOTmGjKjaXr6/6PVtZzenffL+OgU8SWPbQIYfDnvfj5ca0v6OAuoJW/y2k8we6nkaaQouM0c6hEXXTJvAKrjdQoi3oE1s3l+e1b9BN3sJQCg5QbTGH6zdHJYz+TLkO/Enpyg9YVY+ICveV0Cd2NXrxdePYcu0zSJtsWtzlVYU7AetbhhTCWmQL/oKOwSoooYJV5RflHAZtplicVzKoC6urUIDwmx2o5nXsAQT/8lZtGe609v85cjxJJ19Cl2mDjaLB+WxWJcepQNp3EbjHPrG657UwpwhQ1nqSSE5ESChypDB0PiXeSAff6AMD5N7/qdCs0DJgmv1z5QHc2gAVRpbda+pC332tfrBP4UnO7OgKomk7M2iPxJtQDLB29BKLKrNpmuPSKMPZFhhu6X4Qogtqpxr6QXXLrMJc+m6eZ4rJy9/HIwhoOnyCZB4YqkZnSiVuwIBfcxubFcgWOigPCBS5o+1HeOrVvlBDhVyRPjxn4qjdy/DDidYhWdYFHme+pN3usWr8LV3gV2LOJwZ66pGEULWHmRhzVtpc0cpjcWuSfkO7R8T9CrW8Us59r5vAXPOpxexBTQpJlMxhNmhVO0yy9J90IMk0J84BmQGWJdL4m3lJprBFpJj1U5v2ApAbmzDKZiQuQAmp8wioAwBC9l9eBajVzoUC1PuGqYHT6rm1WoqBMG8wJRwBvNCGNctAJZgGYvkAiLq2cHItKKeQ+UKndzUJX1J43vxqetCgGqCVY2JhGvKWrX94Pd1X/R+Qlptk4xh/66FJqV4R/AWQbfGuqkK5h05p6K6XgU5YkVsC2oCn7U/7gTPdL2pQhC1FLDLG5479uYqBAF6yI6S/1z6LV44dFz7ZzdMc75nfzqK/4RhWa2VcuN2fESxLkZC3jSYftVl0yL37MzQ8dinCqCLqD8SRNUjpzfiN+Ed7i/yJ8DvJ7/uhFrslNDEPXSteEopisgMYg5V8oCfCxAAEKBW+ncchKF5v2JrTTtPbiMwrgiJAJ1vNSV5QL/Ez6FlsOQ/b7M9cS31qWlM7VX+mGosf4Lvp0s5Dvaonprdw9L68KglPTgy61fL/9M9c8bSxBBGYi2O5zbGEJnJMiaG1lWweAiaGZxn1u253wv6BBKGsCW5wpFnk3iIUBZDQfTS96lLrSYNv4KnV3iEHoGhcane6AUph9g19cuYdxuevDfPN0AlfaO+TKEp5Jh5+cBFSHV2Q47CmywFwkHO5c5y4NIVJtcvKUnEI7fyizDlmPHtF2Bumodo1V780gggHPzBu/2BFsQcwtnmqgbIWc8NZ+kB1k23IzyGj6GAp2BlN0bH9PjIKcxQE6104PA+g6q9pTkJv0n3p4XyCYOKTtjdcjbAm6eVT3IFzN+v7eCMPWLdeJzL4WWhQpORkK1v96YPu4dKs3UWOKzI0FCDSKJMkXPiLFBABfw24SUchFG4Q/xy//3O7bH9UBThGVmvxu0xgOx5R+rY08SdysqmeR6xi8XAtJxGHzZQ3HjABgf5MyKoKJAH3iOxB657Tpgj4w4xmVadQNhXnmGIaF1YmJuWPHMFoiwEOhFzHcq1yPmwHvyQe59AKTvCtLnPNi4HFeLRC5neUx82ypZwes3AbB9uLPYKYoFxyXoiE4/+GU3P5gtIPk0akDVWs/RV5RVOSIMsqfUNaH6IAZCV/dsPaH624hk2Zh/F5BJS49SlWbJJQsyUOqvt3jRLgqk1M7j4q74ui/rWfBZ+34YlqyWbfft2JfDuvkqJ+jzjYP/c1/nDrnj/Oa4BoAZh+eOtkGu5gAYZrdkyT7yycDRu9656hFdxlbGz0tb34IQE/Gloea5oPJ3prEZdlItreGsIZBE8FNY6Up2Q0DjIUr6ujewz6uFyiiFiC6wZy3sKd+RGXC96oTJhDomVbKWU8oOYpbIGrNBej7ClYSdnxV1w0s1Z6kruoYeTsefXFt9mjY4ROFHVnwGmD4QPagbHT4thcrYvVQzTmktQus4C2tPJHN92gkW9SVUDJC/U5rCDBeUmrdGcaO10BjH5sUBtcGzxoklI1EisQBZNWuGOJ6n5jURukDSqPxAV7B6yI+P1NwwvGdp/dFJ3HH6LZcXbyHH9L2NWhBWq/FZlMS7PW4sayNy40vuECrRynYcu/US0R2OdhyAt+QMi2AMzYYHIO/Us9g7UARqqhduBzKB4H6r2EC94Gh4kl4Npup12rh6VjZ+c1OzEJHWXzwosuQOIm9INWkq/IqTu1LgppJsez6oZrv6sf7I7f2cq3768GUZ7p2dumG3gjODSkovgN+d9ipJP6HFQz39ffPwpiYCmJAsf3eJTeUuudqw4ioOgEVSCkkX7/NkBHFOeWbaiucMWIKXKoXNU7QqI5Q3XwfWvrvBiSK6Jfz3GSDe1Xu1uhCE2aJR91eAWQoL1BKFQCoHNIeH7kV1xuOlyPsgqyINDw5Pae3p4JWxxbtvaHYVTCpOXnjx5RN27Ohnddf5B2DA/kWzV0OhYZRNqogXgFrkEQlb3vlo7s75hvHu2qedvOd8qUn+UHmT19yKHVTH6PQV94LMcbKjlIA0BeWr7nAbkr3hAGv2WsO7EMqhBZcZ4IGSPRN852TvfkWAWJnLLXEgtg6xZraVe9cdA/urrexXkImUycoB2L6bSqPQ6ETTaq6638+yMZSGsYGrAsY9/D9AROaToTViOri42TP8jlgykuSXJn4K7yWGtE4PCka27sTs6lZpG63GektKUO1aufGTVBOi14OjtvcSY90IjyzVjDEBIV7dL1oqFxOjdL1kg72Ozf/sHy92qCHKMu2GwoosRA2dXDZlcccPS5QFhUynuOxA4vJCW82OeBxYGXW3ViZuXtxNLb0BY3DWRtJynMb73oavnzMJIhGdsWtSa1ln0+yd2Ne+gA52QrJmnI+ZOf3HUaNG+Hcrgeu0hWS45jOY3At9SwMNcMyml2/EcpUT44UKz74Xt518zd0pnev6Er5y2JZXl34CYhnviNOdWQ5SdgorNIGEUCAys4eoHkicfp8ZHS1ZuX36TL9Rvu3AOZAYnVPZrX6F4trbq8UKogQDV1DM+Yxa4sFvIvplxb4BxwtWbnXzlnrCoqmLffwNvbV9d3Gyl1fKQsratV2ZR1bhTR8dGPmlrk4490a+ObzHaNCHmneUESRgG50BAtqWhxX9j4n6XYRNRIkITYNRPmq6Gk8AdkhbfgpaOGWL1sFCorY+ZiDvTPCzIi96fJGNJx9zDXxPSLhtE5OIwK0REptvTJqUd9Aji+oaDbFzYAUYdNaMSxXeLoIAsSCoBvKXkWeQDJUhhusZLiov+s6H3tb7hGJnWuagFoR3ppJqMnQ16AlWi8gv4MzileLBxH568C6YOVRGT4y7uTpKTtsv4HxIePkMk7cGL56w9J8HOpT5vlxWZOuoVCdiSk7k1+rClEgEzHCpJB6c47HKSlzO1U1xr5e3ux9wFXbx7DufEc9LD32k3LI34El+TLWMN6D5SUnhsDZgxDhe0ITXewIwAdM63DagEyIGUx7n+pa627VGlrv2XwxJ0ZLtELDe7TLTvLacQcUOmfWdysb03Etz+VtGt87Nm7YfoX896t1KHTPBqFSpYAafYS9/2uhZffx9q2f/4AsJJQ4CpmSO+xUSteh786Lh4NGIeCOWZBz9j9UHfTxapYmP8Ee3iqbC1paJIC3vgGMs+U8QS04ksdbcW9bZOHRUnQLTLe0lEkN1N13U8V61NOp9E9HnlQOcJMrxLghhuo5RnpZAJ08m/xCEc4m9Td5mPNoVaOIQz9LecXu/j43JKYzVKahud5jEEyWxftK9gh/YvOG2mt9NlHWfUZaSnbjayABnipPgJBQPWehUj+/EBelP7nXjtcraWYDhI7G4IgG9Bxc+22OJNIKTz2c1QuAqxKspcOjS3EJ89eIDlnANgz1gKg1TziiNaQUlHS1u/Myr6fzOyNh5weoG+JOetWWg+k+JmgiOf8p1+BpfF4ZJ+0vQRnEUnaimzQ66V1vz0yPI+76fu7mkbPipz5h6ekvKfU5J0AgfyaXnyxNj3BomAuMDKHheQGlkdbrVyfqZGQ0MxK8erPu5qfSAAASa4dWNIVjNRGSFLsiXkfbYgIqz2k62ushXlJgCNLHoqAG2PoJsrYv1lbqc46HU7tWw/MJo7IIVFlzYfev0gqL/mH5YwxEn/+Vs6YL3I8JAYoG15cKBJHQutMUlcrEgpfepXYvEro738QCH63ZJhprEBr4fTFcQphnHUj/sL0N7EpgDNm9MtKaJTgyMzIxTSGm+fw1yRBedtkBf347KoyxqcMJeXVhDNnDDsB6Mf7Oz8dAuwbf1YjEw6SJAK2mO4R7mwuyS0ezk5x01ye5IdU8KxksakmdJL0fVsb7KWK0QqHuSXm7ULwgG78wmU2M++vZS35qYm9+EEnvDNQcQ7I0MBdZuLZTCKwMW6c417X6GChBBBI0mqD+QiuF+1XUd0uUKKro1tkiPveY3RZf2pAH4hiLDOm3zaYhps/Edh1zJ9Ec/nkFmvWMghrFr0imc+PzcChTEvcBqSRhKww+RQAADKlX3OUe222lGaujJQ60I2Adz+A7hUujm13Z851ylHxB/TtzPu+LDxmeYcZ9jV0l1Q7laJkVkUzt7ai7ot4JQyZ8rLBO2hYRifm/vsmYgPM4PsyOkhYgs7pid1EyoYTUd5SuO8f0wxLFVHHDI7WKY8aAnOHGSSIDvbwT6MQSrqeGPb/rBTAJ+aB9NefRuh4z8VRuHd8Pf1wv2al5j3AqLA1Na29CtGt5sfrssLytWfp/TRU8gtOGIzawBrJlzfGnkJQpcvkY89jNJe3RQrwdPgwwr2pYV6z2Zzz06JUd+OAyHpfzznX9Nk9FAG0x5I2MSUiHgFA1ejyNPp40Pe5+tdcYnE4V1JYlA4fitoLrhNglPz14/PuSyHkw30JbtQ2r7kbtZkeVFlalJxsC+R4PWoQQCbM2XqtYOfOLjgQZK9g9EL0AfVcEw0kAUc5ICWD8jVyKBGCCQhIBK/teZrTOZmHMIz2NmC0M50rZXh6JVPqrnpQATYxQ74xG9LDQRVMFGaH051zGWgZjC58GAflWWMw9/NOCjrGL5DS6inw/5mMw5863kgARJawimx7wdCC1Bqt1H6VxUTuVt1se67RGchIU/bIWaPYI5KwuhhKIgOJ2OxLNiqGRI40Ga9hkluP2zfaerUc8A6E8JPrBd3QJtdC17JUGEVILdgM9bsd7vB3UICbYBc5/sqrL/pEDLsSLQe4JpHA1VAEy46h9LPacfGmgP5ITjcH2qqItCj5jDBQeMSbzgja/UBasTS2oNzEUlI2nyYcaU7wzk2OCozo/5VNrYlpyoOcqW/HtyfSeeu/ZbO9AJ6vKSMklmRIY+oqlfadudgEd3IEHtXYTM/dFWxJhdUVC9WH9+uaQnN4MiACyJTSYG2w7VaGnfKoddMmsFfpHVK8w3HhSfEhDm8KDcwtN3vstXoLwIvTRYOAPi+tfZcImaiBvfuoEbK+RKSj9KQqOTJRh9eST5QkN9JwDrpDZU1vKfEWBiDttdlcmKLMAO+O+B0K2BZIr9/9c9GfYEwgy/OkHFRK+sFECw98m37rpdayWhrzXrOb6hnEMx3B3HLmoyQDpXs7K+UtzTN/tgzFehCAPN4R8YDZGK2MlDm15FgkmcIBPFZZKV0OPFM6pMtrdaPHf1j2HVok1yXijvT75PXCDvKm1/UWuefol3DeoNkFQV/n5HCSOLX9Zfbpjl99yJ50UAuJ6+YAmYBsfSFEJXzX+mWi5V0ZJF6EAs6dEM7Bg0ABBmdhQxne+NejYCUPWU/fUMZj610HmsEQ/ypDwTdhLKI0JaawwfX8JD0vuYVP3u1p3HqR4Ytp6O9dYdxKNq88B74lR4HsOSex7Z32ZUfspUjXFFgzOfZv41ua0+Vj9jWYcvv0bW+MeEDibYuAq+iPFc8x/+Bp+tbDcoevNG4g8TQ/EYVqsh36ZOjvwzXoGYrTHWL7DTWZPZNUQWJRG4YnyIDUGd2qvgRCsrnv4GgpXEI70UMaPaYfQVKqVssJwA9G6K5DRrEAD+2c9UMYAHcgLv+NzGKD6gpFqefBCMjFE2qIvYFGijArO6o+WihQ9GJ8pbmI4ACqEcwVEdfANxgjqO5lEVnoahvbmr6Av5dJDXaHXLU2fDJCNFAu2rLnNnEth5TZxntwHEAADR7drGuZHGEZ+c9zOzT4hx/3H+mzM3CdUGHbFn3GubKmQqVOJsTkFD4X1g9oXPBNG6rDhQAjiAzrzboDFVC/rajp+0JrLJGBMcDufp4IMN7Q3qEwKSngeUTAWxE3eyk9arj7hg4jJsOnC/qwL5ogtw0MM1n7X/3RTheRoT6oWjx2G9//Yy9MtTwd3l08cXUs9KCEkIUWRc2bT5qU9bI803ijzAJdnmzZNBFcpZWt8hASgdn7nQKrvJEoYRyhxSaAA59UEMECzP+geARr7q1pB/Rj+glkIkxrKkoathasuGpwvJD+DAIuL65c3stydAH727IYZfFHbw/N9hwrp44AAAAAIEA5rcINXf61hKnx9YrhPWHaX3ei6pffqEC73B0MQUt15kQ6qIU/YUsfh4qBZVsG/Jn+XMaIkxoHlUPYNikwgWk/qNFSqF/DBZqGXw1m4Z2++5un+Irj4gvnr00rGBhmgVXwpqV2Z0Itv+Mb9yeWNnW/OP+DbqlnOl/991QGxgkKEVOyFhr2ArxSTDprm6ircgxVM17szae4rv7Kag8VJPrp3+OrXerOZ9THoXPcdRIUGeJe+FqduUr4QPg/4WwGlXAAAA)"
   ]
  },
  {
   "cell_type": "markdown",
   "id": "42e81496",
   "metadata": {},
   "source": [
    "**Executed results [Success]**\n",
    "\n",
    "We interpret the obtained figure: The scatter plot indicates distinct clusters corresponding to different communities, with several clearly separated groupings represented by various colors, suggesting the presence of diverse subpopulations within the data."
   ]
  },
  {
   "cell_type": "markdown",
   "id": "910924d1",
   "metadata": {},
   "source": [
    "**Predicted API: scanpy.datasets.pbmc3k_processed**\n",
    "\n",
    "The task is to load a ready-to-use dataset that we can analyze for clustering. We solved it by using the function `scanpy.datasets.pbmc3k_processed()`, which gives us a pre-processed data matrix of specific blood cells for our analysis."
   ]
  },
  {
   "cell_type": "code",
   "execution_count": null,
   "id": "c7c7c74d",
   "metadata": {},
   "outputs": [],
   "source": [
    "from scanpy.datasets import pbmc3k_processed\n",
    "result_1 = pbmc3k_processed()"
   ]
  },
  {
   "cell_type": "markdown",
   "id": "3c8596fc",
   "metadata": {},
   "source": [
    "**Executed results [Success]**\n",
    "\n",
    "We obtain a new variable result_1: AnnData object with n_obs × n_vars = 2638 × 1838\n",
    "    obs: 'n_genes', 'percent_mito', 'n_counts', 'louvain'\n",
    "    var: 'n_cells'\n",
    "    uns: 'draw_graph', 'louvain', 'louvain_colors', 'neighbors', 'pca', 'rank_genes_groups'\n",
    "    obsm: 'X_pca', 'X_tsne', 'X_umap', 'X_draw_graph_fr'\n",
    "    varm: 'PCs'\n",
    "    obsp: 'distances', 'connectivities'"
   ]
  },
  {
   "cell_type": "markdown",
   "id": "88d59dc9",
   "metadata": {},
   "source": [
    "**Executed results [Success]**\n",
    "\n",
    "We visualize the first 5 rows of the table data"
   ]
  },
  {
   "cell_type": "markdown",
   "id": "e65ecfea",
   "metadata": {},
   "source": [
    "| index | n_genes | percent_mito | n_counts | louvain |\n",
    "|--|--|--|--|--|\n",
    "| AAACATACAACCAC-1 | 781 | 0.030177759 | 2419.0 | CD4 T cells |\n",
    "| AAACATTGAGCTAC-1 | 1352 | 0.037935957 | 4903.0 | B cells |\n",
    "| AAACATTGATCAGC-1 | 1131 | 0.008897362 | 3147.0 | CD4 T cells |\n",
    "| AAACCGTGCTTCCG-1 | 960 | 0.017430846 | 2639.0 | CD14+ Monocytes |\n",
    "| AAACCGTGTATGCG-1 | 522 | 0.012244898 | 980.0 | NK cells |"
   ]
  },
  {
   "cell_type": "markdown",
   "id": "ebea6d30",
   "metadata": {},
   "source": [
    "**Predicted API: scanpy.pp.filter_cells**\n",
    "\n",
    "The task is to filter out unwanted cells from a dataset based on specific criteria like the minimum number of genes expressed or the number of counts. We solved it by using the `scanpy.pp.filter_cells` function, which allows us to specify thresholds to keep only the reliable cells, ensuring our data is more accurate for analysis."
   ]
  },
  {
   "cell_type": "code",
   "execution_count": null,
   "id": "36ed1167",
   "metadata": {},
   "outputs": [],
   "source": [
    "from scanpy.pp import filter_cells\n",
    "result_3 = filter_cells(result_1, min_genes=3, inplace=True, copy=False)"
   ]
  },
  {
   "cell_type": "markdown",
   "id": "59d11c66",
   "metadata": {},
   "source": [
    "**Executed results [Success]**\n",
    "\n",
    "We obtain a new variable result_1: AnnData object with n_obs × n_vars = 2638 × 1838\n",
    "    obs: 'n_genes', 'percent_mito', 'n_counts', 'louvain'\n",
    "    var: 'n_cells'\n",
    "    uns: 'draw_graph', 'louvain', 'louvain_colors', 'neighbors', 'pca', 'rank_genes_groups'\n",
    "    obsm: 'X_pca', 'X_tsne', 'X_umap', 'X_draw_graph_fr'\n",
    "    varm: 'PCs'\n",
    "    obsp: 'distances', 'connectivities'"
   ]
  },
  {
   "cell_type": "markdown",
   "id": "983d9661",
   "metadata": {},
   "source": [
    "**Executed results [Success]**\n",
    "\n",
    "We visualize the first 5 rows of the table data"
   ]
  },
  {
   "cell_type": "markdown",
   "id": "0b1861a3",
   "metadata": {},
   "source": [
    "| index | n_genes | percent_mito | n_counts | louvain |\n",
    "|--|--|--|--|--|\n",
    "| AAACATACAACCAC-1 | 144 | 0.030177759 | 2419.0 | CD4 T cells |\n",
    "| AAACATTGAGCTAC-1 | 341 | 0.037935957 | 4903.0 | B cells |\n",
    "| AAACATTGATCAGC-1 | 217 | 0.008897362 | 3147.0 | CD4 T cells |\n",
    "| AAACCGTGCTTCCG-1 | 186 | 0.017430846 | 2639.0 | CD14+ Monocytes |\n",
    "| AAACCGTGTATGCG-1 | 157 | 0.012244898 | 980.0 | NK cells |"
   ]
  },
  {
   "cell_type": "markdown",
   "id": "1e3e9119",
   "metadata": {},
   "source": [
    "**Predicted API: scanpy.pp.normalize_total**\n",
    "\n",
    "The task is to normalize the data so that each cell has the same total count, which is important for grouping similar cells effectively. We solved it by using a function that adjusts the counts for each cell and can even ignore highly expressed genes if needed, ensuring a fair comparison across all cells."
   ]
  },
  {
   "cell_type": "code",
   "execution_count": null,
   "id": "e2199faf",
   "metadata": {},
   "outputs": [],
   "source": [
    "from scanpy.pp import normalize_total\n",
    "result_4 = normalize_total(result_1, target_sum=1, inplace=True, copy=False)"
   ]
  },
  {
   "cell_type": "markdown",
   "id": "8a445c83",
   "metadata": {},
   "source": [
    "**Executed results [Success]**\n",
    "\n",
    "Executed successfully! No new variable obtained"
   ]
  },
  {
   "cell_type": "markdown",
   "id": "ce929625",
   "metadata": {},
   "source": [
    "**Predicted API: scanpy.pp.neighbors**\n",
    "\n",
    "The task is to find the nearest neighbors in a dataset, which helps in understanding the relationships between different data points. We solved it by using the `scanpy.pp.neighbors` function, which calculates how closely related each data point is to others, allowing us to choose the number of neighbors and the method of measurement for these connections."
   ]
  },
  {
   "cell_type": "code",
   "execution_count": null,
   "id": "ba7106a8",
   "metadata": {},
   "outputs": [],
   "source": [
    "from scanpy.pp import neighbors\n",
    "result_5 = neighbors(result_1, copy=False)"
   ]
  },
  {
   "cell_type": "markdown",
   "id": "4cec7f15",
   "metadata": {},
   "source": [
    "**Executed results [Success]**\n",
    "\n",
    "Executed successfully! No new variable obtained"
   ]
  },
  {
   "cell_type": "markdown",
   "id": "784ab512",
   "metadata": {},
   "source": [
    "**Predicted API: scanpy.pl.umap**\n",
    "\n",
    "The task is to visualize clustering results in a UMAP (Uniform Manifold Approximation and Projection) format, which helps display the relationships between different data points. We solved it by using the `scanpy.pl.umap` function, specifying the data and the coloring options to represent different clusters or gene expressions on the scatter plot."
   ]
  },
  {
   "cell_type": "code",
   "execution_count": null,
   "id": "b44cecda",
   "metadata": {},
   "outputs": [],
   "source": [
    "from scanpy.pl import umap\n",
    "result_6 = umap(result_1, color='louvain', legend_fontsize='medium', show=True)"
   ]
  },
  {
   "cell_type": "markdown",
   "id": "6c0480b8",
   "metadata": {},
   "source": [
    "**Executed results [Success]**\n",
    "\n",
    "Executed successfully! No new variable obtained"
   ]
  },
  {
   "cell_type": "markdown",
   "id": "6efcdfa9",
   "metadata": {},
   "source": [
    "**Executed results [Success]**\n",
    "\n",
    "We visualize the obtained figure. Try to zoom in or out the figure."
   ]
  },
  {
   "cell_type": "markdown",
   "id": "64c16b7a",
   "metadata": {},
   "source": [
    "![Image](data:image/png;base64,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)"
   ]
  },
  {
   "cell_type": "markdown",
   "id": "75565021",
   "metadata": {},
   "source": [
    "**Executed results [Success]**\n",
    "\n",
    "We interpret the obtained figure: The UMAP clustering reveals distinct spatial separation among various immune cell types, indicating potential functional diversity and interaction patterns within the dataset."
   ]
  },
  {
   "cell_type": "markdown",
   "id": "20d404ab",
   "metadata": {},
   "source": [
    "**Predicted API: scanpy.datasets.pbmc3k_processed**\n",
    "\n",
    "The task is to load a dataset that contains information about 3,000 immune cells for analysis. We solved it by using a specific function that provides this pre-processed dataset, making it ready for our clustering analysis."
   ]
  },
  {
   "cell_type": "code",
   "execution_count": null,
   "id": "d23b6fbc",
   "metadata": {},
   "outputs": [],
   "source": [
    "from scanpy.datasets import pbmc3k_processed\n",
    "result_1 = pbmc3k_processed()"
   ]
  },
  {
   "cell_type": "markdown",
   "id": "57e2b1d6",
   "metadata": {},
   "source": [
    "**Executed results [Success]**\n",
    "\n",
    "We obtain a new variable result_1: AnnData object with n_obs × n_vars = 2638 × 1838\n",
    "    obs: 'n_genes', 'percent_mito', 'n_counts', 'louvain'\n",
    "    var: 'n_cells'\n",
    "    uns: 'draw_graph', 'louvain', 'louvain_colors', 'neighbors', 'pca', 'rank_genes_groups'\n",
    "    obsm: 'X_pca', 'X_tsne', 'X_umap', 'X_draw_graph_fr'\n",
    "    varm: 'PCs'\n",
    "    obsp: 'distances', 'connectivities'"
   ]
  },
  {
   "cell_type": "markdown",
   "id": "4fc4859a",
   "metadata": {},
   "source": [
    "**Executed results [Success]**\n",
    "\n",
    "We visualize the first 5 rows of the table data"
   ]
  },
  {
   "cell_type": "markdown",
   "id": "453d7bba",
   "metadata": {},
   "source": [
    "| index | n_genes | percent_mito | n_counts | louvain |\n",
    "|--|--|--|--|--|\n",
    "| AAACATACAACCAC-1 | 781 | 0.030177759 | 2419.0 | CD4 T cells |\n",
    "| AAACATTGAGCTAC-1 | 1352 | 0.037935957 | 4903.0 | B cells |\n",
    "| AAACATTGATCAGC-1 | 1131 | 0.008897362 | 3147.0 | CD4 T cells |\n",
    "| AAACCGTGCTTCCG-1 | 960 | 0.017430846 | 2639.0 | CD14+ Monocytes |\n",
    "| AAACCGTGTATGCG-1 | 522 | 0.012244898 | 980.0 | NK cells |"
   ]
  },
  {
   "cell_type": "markdown",
   "id": "9a8d2425",
   "metadata": {},
   "source": [
    "**Predicted API: scanpy.tl.leiden**\n",
    "\n",
    "The task is to prepare data for better grouping of similar items, which in this case are cells, to improve analysis. We solved it by using the Leiden algorithm that organizes the cells into clusters based on their characteristics after first determining their relationships."
   ]
  },
  {
   "cell_type": "code",
   "execution_count": null,
   "id": "bd8ac3b4",
   "metadata": {},
   "outputs": [],
   "source": [
    "from scanpy.tl import leiden\n",
    "result_2 = leiden(result_1, copy=False)"
   ]
  },
  {
   "cell_type": "markdown",
   "id": "593b999a",
   "metadata": {},
   "source": [
    "**Executed results [Success]**\n",
    "\n",
    "We obtain a new variable result_1: AnnData object with n_obs × n_vars = 2638 × 1838\n",
    "    obs: 'n_genes', 'percent_mito', 'n_counts', 'louvain', 'leiden'\n",
    "    var: 'n_cells'\n",
    "    uns: 'draw_graph', 'louvain', 'louvain_colors', 'neighbors', 'pca', 'rank_genes_groups', 'leiden'\n",
    "    obsm: 'X_pca', 'X_tsne', 'X_umap', 'X_draw_graph_fr'\n",
    "    varm: 'PCs'\n",
    "    obsp: 'distances', 'connectivities'"
   ]
  },
  {
   "cell_type": "markdown",
   "id": "9e3dda49",
   "metadata": {},
   "source": [
    "**Executed results [Success]**\n",
    "\n",
    "We visualize the first 5 rows of the table data"
   ]
  },
  {
   "cell_type": "markdown",
   "id": "991be4ac",
   "metadata": {},
   "source": [
    "| index | n_genes | percent_mito | n_counts | louvain | leiden |\n",
    "|--|--|--|--|--|--|\n",
    "| AAACATACAACCAC-1 | 781 | 0.030177759 | 2419.0 | CD4 T cells | 0 |\n",
    "| AAACATTGAGCTAC-1 | 1352 | 0.037935957 | 4903.0 | B cells | 2 |\n",
    "| AAACATTGATCAGC-1 | 1131 | 0.008897362 | 3147.0 | CD4 T cells | 0 |\n",
    "| AAACCGTGCTTCCG-1 | 960 | 0.017430846 | 2639.0 | CD14+ Monocytes | 1 |\n",
    "| AAACCGTGTATGCG-1 | 522 | 0.012244898 | 980.0 | NK cells | 4 |"
   ]
  },
  {
   "cell_type": "markdown",
   "id": "a1828b7c",
   "metadata": {},
   "source": [
    "**Predicted API: scanpy.tl.leiden**\n",
    "\n",
    "The task is to identify clusters in processed data, which helps group similar items together. We solved it by using the `scanpy.tl.leiden` function, a tool that organizes data into clusters based on cell similarities, allowing us to specify various settings like how fine or coarse we want the clustering to be."
   ]
  },
  {
   "cell_type": "code",
   "execution_count": null,
   "id": "939c5012",
   "metadata": {},
   "outputs": [],
   "source": [
    "from scanpy.tl import leiden\n",
    "result_3 = leiden(result_1, copy=False)"
   ]
  },
  {
   "cell_type": "markdown",
   "id": "fdbe09bb",
   "metadata": {},
   "source": [
    "**Executed results [Success]**\n",
    "\n",
    "Executed successfully! No new variable obtained"
   ]
  },
  {
   "cell_type": "markdown",
   "id": "0a8fdba0",
   "metadata": {},
   "source": [
    "**Predicted API: scanpy.tl.leiden**\n",
    "\n",
    "The task is to compute cluster centroids for further analysis of cell groups in a dataset. We solved it by using the `scanpy.tl.leiden` function, which groups cells into clusters based on their similarities, allowing us to identify and analyze the characteristics of each cluster."
   ]
  },
  {
   "cell_type": "code",
   "execution_count": null,
   "id": "f1a6e2d1",
   "metadata": {},
   "outputs": [],
   "source": [
    "from scanpy.tl import leiden\n",
    "result_4 = leiden(result_1, copy=False)"
   ]
  },
  {
   "cell_type": "markdown",
   "id": "f2621c7c",
   "metadata": {},
   "source": [
    "**Executed results [Success]**\n",
    "\n",
    "Executed successfully! No new variable obtained"
   ]
  },
  {
   "cell_type": "markdown",
   "id": "187f58a2",
   "metadata": {},
   "source": [
    "**Predicted API: scanpy.pl.scatter**\n",
    "\n",
    "The task is to create a scatter plot that helps visualize clusters in our data. We solved it by using a function called `scanpy.pl.scatter`, which allows us to specify the axes, colors, and other details to effectively display the data points and their relationships visually."
   ]
  },
  {
   "cell_type": "code",
   "execution_count": null,
   "id": "b48fa9bc",
   "metadata": {},
   "outputs": [],
   "source": [
    "from scanpy.pl import scatter\n",
    "scatter(result_1, x='X_umap', y='X_tsne', color='percent_mito', basis='umap', show=True)"
   ]
  },
  {
   "cell_type": "markdown",
   "id": "4bd0f482",
   "metadata": {},
   "source": [
    "**Executed results [Success]**\n",
    "\n",
    "Executed successfully! No new variable obtained"
   ]
  },
  {
   "cell_type": "markdown",
   "id": "2447bd8a",
   "metadata": {},
   "source": [
    "**Executed results [Success]**\n",
    "\n",
    "We visualize the obtained figure. Try to zoom in or out the figure."
   ]
  },
  {
   "cell_type": "markdown",
   "id": "bef87158",
   "metadata": {},
   "source": [
    "![Image](data:image/png;base64,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)"
   ]
  },
  {
   "cell_type": "markdown",
   "id": "4d205250",
   "metadata": {},
   "source": [
    "**Executed results [Success]**\n",
    "\n",
    "We interpret the obtained figure: The scatter plot reveals distinct clusters in the PMBC dataset, with varying percentages of mitochondrial content, suggesting significant heterogeneity in cell populations based on mitochondrial gene expression."
   ]
  },
  {
   "cell_type": "markdown",
   "id": "fd269b95",
   "metadata": {},
   "source": [
    "**Executed results [Success]**\n",
    "\n",
    "We visualize the obtained figure. Try to zoom in or out the figure."
   ]
  },
  {
   "cell_type": "markdown",
   "id": "e5e06053",
   "metadata": {},
   "source": [
    "![Image](data:image/png;base64,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)"
   ]
  },
  {
   "cell_type": "markdown",
   "id": "c4f5943c",
   "metadata": {},
   "source": [
    "**Executed results [Success]**\n",
    "\n",
    "We interpret the obtained figure: The scatter plot reveals distinct clusters of cells with varying mitochondrial percentages, indicating heterogeneity in the PMBC dataset."
   ]
  },
  {
   "cell_type": "markdown",
   "id": "17542de7",
   "metadata": {},
   "source": [
    "**Predicted API: scanpy.datasets.pbmc3k_processed**\n",
    "\n",
    "The task is to load a pre-processed dataset of 3,000 PBMC (peripheral blood mononuclear cells) from a scientific source. We solved it by using the `scanpy.datasets.pbmc3k_processed()` function, which gives us a ready-to-use data matrix for analysis."
   ]
  },
  {
   "cell_type": "code",
   "execution_count": null,
   "id": "46baf441",
   "metadata": {},
   "outputs": [],
   "source": [
    "from scanpy.datasets import pbmc3k_processed\n",
    "result_1 = pbmc3k_processed()"
   ]
  },
  {
   "cell_type": "markdown",
   "id": "040ffc55",
   "metadata": {},
   "source": [
    "**Executed results [Success]**\n",
    "\n",
    "We obtain a new variable result_1: AnnData object with n_obs × n_vars = 2638 × 1838\n",
    "    obs: 'n_genes', 'percent_mito', 'n_counts', 'louvain'\n",
    "    var: 'n_cells'\n",
    "    uns: 'draw_graph', 'louvain', 'louvain_colors', 'neighbors', 'pca', 'rank_genes_groups'\n",
    "    obsm: 'X_pca', 'X_tsne', 'X_umap', 'X_draw_graph_fr'\n",
    "    varm: 'PCs'\n",
    "    obsp: 'distances', 'connectivities'"
   ]
  },
  {
   "cell_type": "markdown",
   "id": "50020950",
   "metadata": {},
   "source": [
    "**Executed results [Success]**\n",
    "\n",
    "We visualize the first 5 rows of the table data"
   ]
  },
  {
   "cell_type": "markdown",
   "id": "05e1d872",
   "metadata": {},
   "source": [
    "| index | n_genes | percent_mito | n_counts | louvain |\n",
    "|--|--|--|--|--|\n",
    "| AAACATACAACCAC-1 | 781 | 0.030177759 | 2419.0 | CD4 T cells |\n",
    "| AAACATTGAGCTAC-1 | 1352 | 0.037935957 | 4903.0 | B cells |\n",
    "| AAACATTGATCAGC-1 | 1131 | 0.008897362 | 3147.0 | CD4 T cells |\n",
    "| AAACCGTGCTTCCG-1 | 960 | 0.017430846 | 2639.0 | CD14+ Monocytes |\n",
    "| AAACCGTGTATGCG-1 | 522 | 0.012244898 | 980.0 | NK cells |"
   ]
  },
  {
   "cell_type": "markdown",
   "id": "408d595f",
   "metadata": {},
   "source": [
    "**Predicted API: scanpy.pl.heatmap**\n",
    "\n",
    "The task is to visualize gene expression values using a heatmap, which helps us see patterns in gene activity across different conditions or groups. We solved it by using the `scanpy.pl.heatmap` function, which takes the gene expression data and specified genes to create a visual representation where colors indicate the level of expression."
   ]
  },
  {
   "cell_type": "code",
   "execution_count": null,
   "id": "cd7c003c",
   "metadata": {},
   "outputs": [],
   "source": [
    "from scanpy.pl import heatmap\n",
    "heatmap(result_1, 'adata.var_names', 'louvain', log=True, standard_scale='var', show=True)"
   ]
  },
  {
   "cell_type": "markdown",
   "id": "9ac35c1d",
   "metadata": {},
   "source": [
    "**Executed results [Fail]**\n",
    "\n",
    "KeyError: \"Could not find keys '['adata.var_names']' in columns of `adata.obs` or in adata.raw.var_names.\""
   ]
  },
  {
   "cell_type": "code",
   "execution_count": null,
   "id": "43acd814",
   "metadata": {},
   "outputs": [],
   "source": [
    "import scanpy as sc\n",
    "\n",
    "heatmap_result = sc.pl.heatmap(result_1, var_names=result_1.var_names[:10], groupby='louvain', log=True, standard_scale='var', show=True)"
   ]
  },
  {
   "cell_type": "markdown",
   "id": "e0562daa",
   "metadata": {},
   "source": [
    "**Executed results [Success]**\n",
    "\n",
    "Executed successfully! No new variable obtained"
   ]
  },
  {
   "cell_type": "markdown",
   "id": "e6801e94",
   "metadata": {},
   "source": [
    "**Executed results [Success]**\n",
    "\n",
    "We visualize the obtained figure. Try to zoom in or out the figure."
   ]
  },
  {
   "cell_type": "markdown",
   "id": "af0567df",
   "metadata": {},
   "source": [
    "![Image](data:image/png;base64,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)"
   ]
  },
  {
   "cell_type": "markdown",
   "id": "28352d13",
   "metadata": {},
   "source": [
    "**Executed results [Success]**\n",
    "\n",
    "We interpret the obtained figure: The heatmap reveals distinct gene expression patterns among various immune cell types, highlighting specific markers that differentiate cell populations, particularly in CD4 T cells and CD14+ Monocytes."
   ]
  },
  {
   "cell_type": "markdown",
   "id": "213b79ef",
   "metadata": {},
   "source": [
    "**Predicted API: scanpy.datasets.pbmc3k_processed**\n",
    "\n",
    "The task is to load a specific dataset called the processed 3k PBMCs from 10x Genomics, which contains analyzed data for cell studies. We solved it by using the `scanpy.datasets.pbmc3k_processed()` function, which allows us to easily access this pre-processed data for further research."
   ]
  },
  {
   "cell_type": "code",
   "execution_count": null,
   "id": "c8178f0f",
   "metadata": {},
   "outputs": [],
   "source": [
    "from scanpy.datasets import pbmc3k_processed\n",
    "result_1 = pbmc3k_processed()"
   ]
  },
  {
   "cell_type": "markdown",
   "id": "93d4cb3d",
   "metadata": {},
   "source": [
    "**Executed results [Success]**\n",
    "\n",
    "We obtain a new variable result_1: AnnData object with n_obs × n_vars = 2638 × 1838\n",
    "    obs: 'n_genes', 'percent_mito', 'n_counts', 'louvain'\n",
    "    var: 'n_cells'\n",
    "    uns: 'draw_graph', 'louvain', 'louvain_colors', 'neighbors', 'pca', 'rank_genes_groups'\n",
    "    obsm: 'X_pca', 'X_tsne', 'X_umap', 'X_draw_graph_fr'\n",
    "    varm: 'PCs'\n",
    "    obsp: 'distances', 'connectivities'"
   ]
  },
  {
   "cell_type": "markdown",
   "id": "9130811f",
   "metadata": {},
   "source": [
    "**Executed results [Success]**\n",
    "\n",
    "We visualize the first 5 rows of the table data"
   ]
  },
  {
   "cell_type": "markdown",
   "id": "61dcc375",
   "metadata": {},
   "source": [
    "| index | n_genes | percent_mito | n_counts | louvain |\n",
    "|--|--|--|--|--|\n",
    "| AAACATACAACCAC-1 | 781 | 0.030177759 | 2419.0 | CD4 T cells |\n",
    "| AAACATTGAGCTAC-1 | 1352 | 0.037935957 | 4903.0 | B cells |\n",
    "| AAACATTGATCAGC-1 | 1131 | 0.008897362 | 3147.0 | CD4 T cells |\n",
    "| AAACCGTGCTTCCG-1 | 960 | 0.017430846 | 2639.0 | CD14+ Monocytes |\n",
    "| AAACCGTGTATGCG-1 | 522 | 0.012244898 | 980.0 | NK cells |"
   ]
  },
  {
   "cell_type": "markdown",
   "id": "bacabd39",
   "metadata": {},
   "source": [
    "**Predicted API: scanpy.datasets.pbmc3k_processed**\n",
    "\n",
    "The task is to load a pre-processed dataset of 3,000 blood cells from a specific biological study. We solved it by using the function `scanpy.datasets.pbmc3k_processed()`, which gives us an organized data table ready for analysis."
   ]
  },
  {
   "cell_type": "code",
   "execution_count": null,
   "id": "3c60123b",
   "metadata": {},
   "outputs": [],
   "source": [
    "from scanpy.datasets import pbmc3k_processed\n",
    "result_1 = pbmc3k_processed()"
   ]
  },
  {
   "cell_type": "markdown",
   "id": "57b5576c",
   "metadata": {},
   "source": [
    "**Executed results [Success]**\n",
    "\n",
    "We obtain a new variable result_1: AnnData object with n_obs × n_vars = 2638 × 1838\n",
    "    obs: 'n_genes', 'percent_mito', 'n_counts', 'louvain'\n",
    "    var: 'n_cells'\n",
    "    uns: 'draw_graph', 'louvain', 'louvain_colors', 'neighbors', 'pca', 'rank_genes_groups'\n",
    "    obsm: 'X_pca', 'X_tsne', 'X_umap', 'X_draw_graph_fr'\n",
    "    varm: 'PCs'\n",
    "    obsp: 'distances', 'connectivities'"
   ]
  },
  {
   "cell_type": "markdown",
   "id": "15c482d4",
   "metadata": {},
   "source": [
    "**Executed results [Success]**\n",
    "\n",
    "We visualize the first 5 rows of the table data"
   ]
  },
  {
   "cell_type": "markdown",
   "id": "9d464933",
   "metadata": {},
   "source": [
    "| index | n_genes | percent_mito | n_counts | louvain |\n",
    "|--|--|--|--|--|\n",
    "| AAACATACAACCAC-1 | 781 | 0.030177759 | 2419.0 | CD4 T cells |\n",
    "| AAACATTGAGCTAC-1 | 1352 | 0.037935957 | 4903.0 | B cells |\n",
    "| AAACATTGATCAGC-1 | 1131 | 0.008897362 | 3147.0 | CD4 T cells |\n",
    "| AAACCGTGCTTCCG-1 | 960 | 0.017430846 | 2639.0 | CD14+ Monocytes |\n",
    "| AAACCGTGTATGCG-1 | 522 | 0.012244898 | 980.0 | NK cells |"
   ]
  },
  {
   "cell_type": "markdown",
   "id": "a997827e",
   "metadata": {},
   "source": [
    "**Predicted API: scanpy.pp.filter_cells**\n",
    "\n",
    "The task is to filter out unwanted cells from a dataset based on certain criteria, such as the minimum number of genes they express or the number of counts they have. We solved it by using the `filter_cells` function from the Scanpy library, which helps us keep only the reliable cells that meet our specified thresholds, allowing for cleaner data analysis."
   ]
  },
  {
   "cell_type": "code",
   "execution_count": null,
   "id": "1e35f3e9",
   "metadata": {},
   "outputs": [],
   "source": [
    "from scanpy.pp import filter_cells\n",
    "result_2 = filter_cells(result_1, min_genes=3, inplace=True, copy=False)"
   ]
  },
  {
   "cell_type": "markdown",
   "id": "2e24fd15",
   "metadata": {},
   "source": [
    "**Executed results [Success]**\n",
    "\n",
    "We obtain a new variable result_1: AnnData object with n_obs × n_vars = 2638 × 1838\n",
    "    obs: 'n_genes', 'percent_mito', 'n_counts', 'louvain'\n",
    "    var: 'n_cells'\n",
    "    uns: 'draw_graph', 'louvain', 'louvain_colors', 'neighbors', 'pca', 'rank_genes_groups'\n",
    "    obsm: 'X_pca', 'X_tsne', 'X_umap', 'X_draw_graph_fr'\n",
    "    varm: 'PCs'\n",
    "    obsp: 'distances', 'connectivities'"
   ]
  },
  {
   "cell_type": "markdown",
   "id": "31ef4197",
   "metadata": {},
   "source": [
    "**Executed results [Success]**\n",
    "\n",
    "We visualize the first 5 rows of the table data"
   ]
  },
  {
   "cell_type": "markdown",
   "id": "ae2aa852",
   "metadata": {},
   "source": [
    "| index | n_genes | percent_mito | n_counts | louvain |\n",
    "|--|--|--|--|--|\n",
    "| AAACATACAACCAC-1 | 144 | 0.030177759 | 2419.0 | CD4 T cells |\n",
    "| AAACATTGAGCTAC-1 | 341 | 0.037935957 | 4903.0 | B cells |\n",
    "| AAACATTGATCAGC-1 | 217 | 0.008897362 | 3147.0 | CD4 T cells |\n",
    "| AAACCGTGCTTCCG-1 | 186 | 0.017430846 | 2639.0 | CD14+ Monocytes |\n",
    "| AAACCGTGTATGCG-1 | 157 | 0.012244898 | 980.0 | NK cells |"
   ]
  },
  {
   "cell_type": "markdown",
   "id": "03b4a117",
   "metadata": {},
   "source": [
    "**Predicted API: scanpy.pp.normalize_total**\n",
    "\n",
    "The task is to normalize the data to ensure that the values across different samples are consistent. We solved it by using the `scanpy.pp.normalize_total` function, which adjusts the counts for each cell to a target sum, allowing us to either exclude highly expressed genes or include them based on set parameters for more accurate normalization."
   ]
  },
  {
   "cell_type": "code",
   "execution_count": null,
   "id": "247529f3",
   "metadata": {},
   "outputs": [],
   "source": [
    "from scanpy.pp import normalize_total\n",
    "result_3 = normalize_total(result_1, target_sum=1e6, copy=False, inplace=True)"
   ]
  },
  {
   "cell_type": "markdown",
   "id": "c81f6f01",
   "metadata": {},
   "source": [
    "**Executed results [Success]**\n",
    "\n",
    "Executed successfully! No new variable obtained"
   ]
  },
  {
   "cell_type": "markdown",
   "id": "ec6d3817",
   "metadata": {},
   "source": [
    "**Predicted API: scanpy.tl.pca**\n",
    "\n",
    "The task is to reduce the complexity of our data by performing dimensionality reduction. We solved it by using a function called PCA (Principal Component Analysis) from the Scanpy library, which simplifies the data while preserving important information by transforming it into a smaller set of variables."
   ]
  },
  {
   "cell_type": "code",
   "execution_count": null,
   "id": "50933b0d",
   "metadata": {},
   "outputs": [],
   "source": [
    "from scanpy.tl import pca\n",
    "result_4 = pca(result_1, n_comps=50, copy=False)"
   ]
  },
  {
   "cell_type": "markdown",
   "id": "e6c6e70b",
   "metadata": {},
   "source": [
    "**Executed results [Success]**\n",
    "\n",
    "We obtain a new variable result_1: AnnData object with n_obs × n_vars = 2638 × 1838\n",
    "    obs: 'n_genes', 'percent_mito', 'n_counts', 'louvain'\n",
    "    var: 'n_cells'\n",
    "    uns: 'draw_graph', 'louvain', 'louvain_colors', 'neighbors', 'pca', 'rank_genes_groups'\n",
    "    obsm: 'X_pca', 'X_tsne', 'X_umap', 'X_draw_graph_fr'\n",
    "    varm: 'PCs'\n",
    "    obsp: 'distances', 'connectivities'"
   ]
  },
  {
   "cell_type": "markdown",
   "id": "b4562b17",
   "metadata": {},
   "source": [
    "**Executed results [Success]**\n",
    "\n",
    "We visualize the first 5 rows of the table data"
   ]
  },
  {
   "cell_type": "markdown",
   "id": "86da84cb",
   "metadata": {},
   "source": [
    "| index | n_genes | percent_mito | n_counts | louvain |\n",
    "|--|--|--|--|--|\n",
    "| AAACATACAACCAC-1 | 144 | 0.030177759 | 2419.0 | CD4 T cells |\n",
    "| AAACATTGAGCTAC-1 | 341 | 0.037935957 | 4903.0 | B cells |\n",
    "| AAACATTGATCAGC-1 | 217 | 0.008897362 | 3147.0 | CD4 T cells |\n",
    "| AAACCGTGCTTCCG-1 | 186 | 0.017430846 | 2639.0 | CD14+ Monocytes |\n",
    "| AAACCGTGTATGCG-1 | 157 | 0.012244898 | 980.0 | NK cells |"
   ]
  },
  {
   "cell_type": "markdown",
   "id": "8bb6711c",
   "metadata": {},
   "source": [
    "**Predicted API: scanpy.pl.umap**\n",
    "\n",
    "The task is to create a visual representation of data using UMAP, which helps in understanding the relationships between different data points. We solved it by using the `scanpy.pl.umap` function, which generates a scatter plot based on the provided data and highlights various features, such as color coding based on gene expression or different categories."
   ]
  },
  {
   "cell_type": "code",
   "execution_count": null,
   "id": "15674eb5",
   "metadata": {},
   "outputs": [],
   "source": [
    "from scanpy.pl import umap\n",
    "result_5 = umap(result_1, color='louvain', layer='X_new', show=True)"
   ]
  },
  {
   "cell_type": "markdown",
   "id": "d9a797f7",
   "metadata": {},
   "source": [
    "**Executed results [Success]**\n",
    "\n",
    "Executed successfully! No new variable obtained"
   ]
  },
  {
   "cell_type": "markdown",
   "id": "3521a3c4",
   "metadata": {},
   "source": [
    "**Executed results [Success]**\n",
    "\n",
    "We visualize the obtained figure. Try to zoom in or out the figure."
   ]
  },
  {
   "cell_type": "markdown",
   "id": "b42adb81",
   "metadata": {},
   "source": [
    "![Image](data:image/png;base64,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)"
   ]
  },
  {
   "cell_type": "markdown",
   "id": "7059c113",
   "metadata": {},
   "source": [
    "**Executed results [Success]**\n",
    "\n",
    "We interpret the obtained figure: The UMAP representation reveals distinct clustering of various immune cell types, indicating significant differences in their distributions and relationships in the dataset."
   ]
  },
  {
   "cell_type": "markdown",
   "id": "3645ae37",
   "metadata": {},
   "source": [
    "**Predicted API: scanpy.datasets.pbmc3k_processed**\n",
    "\n",
    "The task is to load a built-in dataset for clustering analysis. We solved it by using the `scanpy.datasets.pbmc3k_processed()` function, which provides an annotated data matrix of processed PBMCs (Peripheral Blood Mononuclear Cells) from 10x Genomics."
   ]
  },
  {
   "cell_type": "code",
   "execution_count": null,
   "id": "166433ff",
   "metadata": {},
   "outputs": [],
   "source": [
    "from scanpy.datasets import pbmc3k_processed\n",
    "result_1 = pbmc3k_processed()"
   ]
  },
  {
   "cell_type": "markdown",
   "id": "f74ece01",
   "metadata": {},
   "source": [
    "**Executed results [Success]**\n",
    "\n",
    "We obtain a new variable result_1: AnnData object with n_obs × n_vars = 2638 × 1838\n",
    "    obs: 'n_genes', 'percent_mito', 'n_counts', 'louvain'\n",
    "    var: 'n_cells'\n",
    "    uns: 'draw_graph', 'louvain', 'louvain_colors', 'neighbors', 'pca', 'rank_genes_groups'\n",
    "    obsm: 'X_pca', 'X_tsne', 'X_umap', 'X_draw_graph_fr'\n",
    "    varm: 'PCs'\n",
    "    obsp: 'distances', 'connectivities'"
   ]
  },
  {
   "cell_type": "markdown",
   "id": "48678672",
   "metadata": {},
   "source": [
    "**Executed results [Success]**\n",
    "\n",
    "We visualize the first 5 rows of the table data"
   ]
  },
  {
   "cell_type": "markdown",
   "id": "f66c2107",
   "metadata": {},
   "source": [
    "| index | n_genes | percent_mito | n_counts | louvain |\n",
    "|--|--|--|--|--|\n",
    "| AAACATACAACCAC-1 | 781 | 0.030177759 | 2419.0 | CD4 T cells |\n",
    "| AAACATTGAGCTAC-1 | 1352 | 0.037935957 | 4903.0 | B cells |\n",
    "| AAACATTGATCAGC-1 | 1131 | 0.008897362 | 3147.0 | CD4 T cells |\n",
    "| AAACCGTGCTTCCG-1 | 960 | 0.017430846 | 2639.0 | CD14+ Monocytes |\n",
    "| AAACCGTGTATGCG-1 | 522 | 0.012244898 | 980.0 | NK cells |"
   ]
  },
  {
   "cell_type": "markdown",
   "id": "f040572a",
   "metadata": {},
   "source": [
    "**Predicted API: scanpy.get.obs_df**\n",
    "\n",
    "The task is to filter a dataset to focus on specific data points that are relevant to our interests. We solved it by using the `scanpy.get.obs_df` function, which allows us to select particular columns and values from our dataset, making it easier to analyze and visualize the information we need."
   ]
  }
 ],
 "metadata": {
  "kernelspec": {
   "display_name": "Python 3 (ipykernel)",
   "language": "python",
   "name": "python3"
  },
  "language_info": {
   "codemirror_mode": {
    "name": "ipython",
    "version": 3
   },
   "file_extension": ".py",
   "mimetype": "text/x-python",
   "name": "python",
   "nbconvert_exporter": "python",
   "pygments_lexer": "ipython3",
   "version": "3.9.13"
  }
 },
 "nbformat": 4,
 "nbformat_minor": 5
}
